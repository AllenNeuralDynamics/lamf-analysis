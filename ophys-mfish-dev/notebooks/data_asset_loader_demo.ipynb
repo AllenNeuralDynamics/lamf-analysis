{
 "cells": [
  {
   "cell_type": "code",
   "execution_count": 1,
   "metadata": {},
   "outputs": [],
   "source": [
    "from comb.co.code_ocean_data_explorer import CodeOceanDataExplorer \n",
    "from comb.co.data_asset_loader import DataAssetLoader\n",
    "\n",
    "from pathlib import Path\n",
    "import pandas as pd\n",
    "\n",
    "# autoreload\n",
    "%load_ext autoreload\n",
    "%autoreload 2"
   ]
  },
  {
   "cell_type": "markdown",
   "metadata": {},
   "source": [
    "## 1. DataAssetLoader main attribute: assets\n",
    "+ 'assets' is a dict of dicts\n",
    "+ asset_name is the key for the top level dict"
   ]
  },
  {
   "cell_type": "code",
   "execution_count": 2,
   "metadata": {},
   "outputs": [
    {
     "data": {
      "text/plain": [
       "{'multiplane-ophys_685789_2023-09-22_12-20-38_processed_2024-02-05_03-30-43': {'path': PosixPath('/root/capsule/data/multiplane-ophys_685789_2023-09-22_12-20-38_processed_2024-02-05_03-30-43'),\n",
       "  'type': 'processed',\n",
       "  'id': 'a4ce8da2-f8af-48bb-a20a-01ef09d3f458',\n",
       "  'linked_attached': True},\n",
       " 'multiplane-ophys_692478_2023-09-29_10-10-00_processed_2024-01-12_22-05-17': {'path': PosixPath('/root/capsule/data/multiplane-ophys_692478_2023-09-29_10-10-00_processed_2024-01-12_22-05-17'),\n",
       "  'type': 'processed',\n",
       "  'id': '1a0a663b-aa19-4b82-93a1-325f1b44cda6',\n",
       "  'linked_attached': False},\n",
       " 'multiplane-ophys_681417_2023-08-03_10-13-58_processed_2024-02-08_23-27-56': {'path': PosixPath('/root/capsule/data/multiplane-ophys_681417_2023-08-03_10-13-58_processed_2024-02-08_23-27-56'),\n",
       "  'type': 'processed',\n",
       "  'id': 'd43b2d9b-0781-4fa6-9761-72455da3d61c',\n",
       "  'linked_attached': False},\n",
       " 'multiplane-ophys_692478_2023-10-02_10-17-06_processed_2024-01-12_22-04-40': {'path': PosixPath('/root/capsule/data/multiplane-ophys_692478_2023-10-02_10-17-06_processed_2024-01-12_22-04-40'),\n",
       "  'type': 'processed',\n",
       "  'id': '4f4ed26c-a0f9-4e52-b347-f3c4b170e1ad',\n",
       "  'linked_attached': False},\n",
       " 'multiplane-ophys_677594_2023-08-04_09-44-08': {'path': PosixPath('/root/capsule/data/multiplane-ophys_677594_2023-08-04_09-44-08'),\n",
       "  'type': 'raw',\n",
       "  'id': '0cff9ef1-77ad-4688-9d87-81f8799b2669',\n",
       "  'linked_attached': True},\n",
       " 'multiplane-ophys_677594_2023-08-05_09-53-49_processed_2024-02-08_23-27-20': {'path': PosixPath('/root/capsule/data/multiplane-ophys_677594_2023-08-05_09-53-49_processed_2024-02-08_23-27-20'),\n",
       "  'type': 'processed',\n",
       "  'id': '4e41efd6-cf6e-440b-83dd-9e777f2540b0',\n",
       "  'linked_attached': False},\n",
       " 'multiplane-ophys_677594_2023-08-04_09-44-08_processed_2024-02-08_23-26-44': {'path': PosixPath('/root/capsule/data/multiplane-ophys_677594_2023-08-04_09-44-08_processed_2024-02-08_23-26-44'),\n",
       "  'type': 'processed',\n",
       "  'id': '5bdb1cc1-6f8e-4daf-a8eb-d908ed7ef801',\n",
       "  'linked_attached': True},\n",
       " 'multiplane-ophys_689393_2023-10-03_10-37-43_processed_2024-02-05_03-31-56': {'path': PosixPath('/root/capsule/data/multiplane-ophys_689393_2023-10-03_10-37-43_processed_2024-02-05_03-31-56'),\n",
       "  'type': 'processed',\n",
       "  'id': '9c51877e-5d42-484b-9e9a-472c3c4b90f7',\n",
       "  'linked_attached': False},\n",
       " 'multiplane-ophys_687001_2023-10-23_12-45-50_processed_2024-01-14_16-34-05': {'path': PosixPath('/root/capsule/data/multiplane-ophys_687001_2023-10-23_12-45-50_processed_2024-01-14_16-34-05'),\n",
       "  'type': 'processed',\n",
       "  'id': 'bcca0098-4e4b-493e-b720-e9a642fadba2',\n",
       "  'linked_attached': False},\n",
       " 'multiplane-ophys_685789_2023-09-26_13-18-07_processed_2024-02-05_03-29-30': {'path': PosixPath('/root/capsule/data/multiplane-ophys_685789_2023-09-26_13-18-07_processed_2024-02-05_03-29-30'),\n",
       "  'type': 'processed',\n",
       "  'id': 'c500e1bc-8e6c-4af8-83b1-44964df12482',\n",
       "  'linked_attached': False},\n",
       " 'multiplane-ophys_484408_2019-11-04_01-21-00_processed_2024-03-01_21-51-29': {'path': PosixPath('/root/capsule/data/multiplane-ophys_484408_2019-11-04_01-21-00_processed_2024-03-01_21-51-29'),\n",
       "  'type': 'processed',\n",
       "  'id': 'e27dc4c9-b0a4-44a4-925f-45899d37122a',\n",
       "  'linked_attached': False},\n",
       " 'multiplane-ophys_485152_2019-12-09_13-04-09_processed_2024-02-12_02-53-53': {'path': PosixPath('/root/capsule/data/multiplane-ophys_485152_2019-12-09_13-04-09_processed_2024-02-12_02-53-53'),\n",
       "  'type': 'processed',\n",
       "  'id': '726968e5-eb99-4e7e-ba35-45fc4de2afca',\n",
       "  'linked_attached': False},\n",
       " 'multiplane-ophys_685789_2023-09-22_12-20-38': {'path': PosixPath('/root/capsule/data/multiplane-ophys_685789_2023-09-22_12-20-38'),\n",
       "  'type': 'raw',\n",
       "  'id': '7318ce1e-d9b2-403a-8293-7c662be761ed',\n",
       "  'linked_attached': True}}"
      ]
     },
     "execution_count": 2,
     "metadata": {},
     "output_type": "execute_result"
    }
   ],
   "source": [
    "loader = DataAssetLoader()\n",
    "loader.assets"
   ]
  },
  {
   "cell_type": "code",
   "execution_count": 5,
   "metadata": {},
   "outputs": [
    {
     "data": {
      "text/html": [
       "<div>\n",
       "<style scoped>\n",
       "    .dataframe tbody tr th:only-of-type {\n",
       "        vertical-align: middle;\n",
       "    }\n",
       "\n",
       "    .dataframe tbody tr th {\n",
       "        vertical-align: top;\n",
       "    }\n",
       "\n",
       "    .dataframe thead th {\n",
       "        text-align: right;\n",
       "    }\n",
       "</style>\n",
       "<table border=\"1\" class=\"dataframe\">\n",
       "  <thead>\n",
       "    <tr style=\"text-align: right;\">\n",
       "      <th></th>\n",
       "      <th>path</th>\n",
       "      <th>type</th>\n",
       "      <th>id</th>\n",
       "      <th>linked_attached</th>\n",
       "    </tr>\n",
       "  </thead>\n",
       "  <tbody>\n",
       "    <tr>\n",
       "      <th>multiplane-ophys_685789_2023-09-22_12-20-38_processed_2024-02-05_03-30-43</th>\n",
       "      <td>/root/capsule/data/multiplane-ophys_685789_202...</td>\n",
       "      <td>processed</td>\n",
       "      <td>a4ce8da2-f8af-48bb-a20a-01ef09d3f458</td>\n",
       "      <td>True</td>\n",
       "    </tr>\n",
       "    <tr>\n",
       "      <th>multiplane-ophys_692478_2023-09-29_10-10-00_processed_2024-01-12_22-05-17</th>\n",
       "      <td>/root/capsule/data/multiplane-ophys_692478_202...</td>\n",
       "      <td>processed</td>\n",
       "      <td>1a0a663b-aa19-4b82-93a1-325f1b44cda6</td>\n",
       "      <td>False</td>\n",
       "    </tr>\n",
       "    <tr>\n",
       "      <th>multiplane-ophys_681417_2023-08-03_10-13-58_processed_2024-02-08_23-27-56</th>\n",
       "      <td>/root/capsule/data/multiplane-ophys_681417_202...</td>\n",
       "      <td>processed</td>\n",
       "      <td>d43b2d9b-0781-4fa6-9761-72455da3d61c</td>\n",
       "      <td>False</td>\n",
       "    </tr>\n",
       "    <tr>\n",
       "      <th>multiplane-ophys_692478_2023-10-02_10-17-06_processed_2024-01-12_22-04-40</th>\n",
       "      <td>/root/capsule/data/multiplane-ophys_692478_202...</td>\n",
       "      <td>processed</td>\n",
       "      <td>4f4ed26c-a0f9-4e52-b347-f3c4b170e1ad</td>\n",
       "      <td>False</td>\n",
       "    </tr>\n",
       "    <tr>\n",
       "      <th>multiplane-ophys_677594_2023-08-04_09-44-08</th>\n",
       "      <td>/root/capsule/data/multiplane-ophys_677594_202...</td>\n",
       "      <td>raw</td>\n",
       "      <td>0cff9ef1-77ad-4688-9d87-81f8799b2669</td>\n",
       "      <td>True</td>\n",
       "    </tr>\n",
       "  </tbody>\n",
       "</table>\n",
       "</div>"
      ],
      "text/plain": [
       "                                                                                                 path  \\\n",
       "multiplane-ophys_685789_2023-09-22_12-20-38_pro...  /root/capsule/data/multiplane-ophys_685789_202...   \n",
       "multiplane-ophys_692478_2023-09-29_10-10-00_pro...  /root/capsule/data/multiplane-ophys_692478_202...   \n",
       "multiplane-ophys_681417_2023-08-03_10-13-58_pro...  /root/capsule/data/multiplane-ophys_681417_202...   \n",
       "multiplane-ophys_692478_2023-10-02_10-17-06_pro...  /root/capsule/data/multiplane-ophys_692478_202...   \n",
       "multiplane-ophys_677594_2023-08-04_09-44-08         /root/capsule/data/multiplane-ophys_677594_202...   \n",
       "\n",
       "                                                         type  \\\n",
       "multiplane-ophys_685789_2023-09-22_12-20-38_pro...  processed   \n",
       "multiplane-ophys_692478_2023-09-29_10-10-00_pro...  processed   \n",
       "multiplane-ophys_681417_2023-08-03_10-13-58_pro...  processed   \n",
       "multiplane-ophys_692478_2023-10-02_10-17-06_pro...  processed   \n",
       "multiplane-ophys_677594_2023-08-04_09-44-08               raw   \n",
       "\n",
       "                                                                                      id  \\\n",
       "multiplane-ophys_685789_2023-09-22_12-20-38_pro...  a4ce8da2-f8af-48bb-a20a-01ef09d3f458   \n",
       "multiplane-ophys_692478_2023-09-29_10-10-00_pro...  1a0a663b-aa19-4b82-93a1-325f1b44cda6   \n",
       "multiplane-ophys_681417_2023-08-03_10-13-58_pro...  d43b2d9b-0781-4fa6-9761-72455da3d61c   \n",
       "multiplane-ophys_692478_2023-10-02_10-17-06_pro...  4f4ed26c-a0f9-4e52-b347-f3c4b170e1ad   \n",
       "multiplane-ophys_677594_2023-08-04_09-44-08         0cff9ef1-77ad-4688-9d87-81f8799b2669   \n",
       "\n",
       "                                                   linked_attached  \n",
       "multiplane-ophys_685789_2023-09-22_12-20-38_pro...            True  \n",
       "multiplane-ophys_692478_2023-09-29_10-10-00_pro...           False  \n",
       "multiplane-ophys_681417_2023-08-03_10-13-58_pro...           False  \n",
       "multiplane-ophys_692478_2023-10-02_10-17-06_pro...           False  \n",
       "multiplane-ophys_677594_2023-08-04_09-44-08                   True  "
      ]
     },
     "execution_count": 5,
     "metadata": {},
     "output_type": "execute_result"
    }
   ],
   "source": [
    "assets_df = pd.DataFrame(loader.assets).T\n",
    "assets_df.head()"
   ]
  },
  {
   "cell_type": "code",
   "execution_count": 8,
   "metadata": {},
   "outputs": [
    {
     "data": {
      "text/plain": [
       "{'multiplane-ophys_685789_2023-09-22_12-20-38_processed_2024-02-05_03-30-43': {'path': PosixPath('/root/capsule/data/multiplane-ophys_685789_2023-09-22_12-20-38_processed_2024-02-05_03-30-43'),\n",
       "  'type': 'processed',\n",
       "  'id': 'a4ce8da2-f8af-48bb-a20a-01ef09d3f458',\n",
       "  'linked_attached': True},\n",
       " 'multiplane-ophys_677594_2023-08-04_09-44-08': {'path': PosixPath('/root/capsule/data/multiplane-ophys_677594_2023-08-04_09-44-08'),\n",
       "  'type': 'raw',\n",
       "  'id': '0cff9ef1-77ad-4688-9d87-81f8799b2669',\n",
       "  'linked_attached': True},\n",
       " 'multiplane-ophys_677594_2023-08-04_09-44-08_processed_2024-02-08_23-26-44': {'path': PosixPath('/root/capsule/data/multiplane-ophys_677594_2023-08-04_09-44-08_processed_2024-02-08_23-26-44'),\n",
       "  'type': 'processed',\n",
       "  'id': '5bdb1cc1-6f8e-4daf-a8eb-d908ed7ef801',\n",
       "  'linked_attached': True},\n",
       " 'multiplane-ophys_685789_2023-09-22_12-20-38': {'path': PosixPath('/root/capsule/data/multiplane-ophys_685789_2023-09-22_12-20-38'),\n",
       "  'type': 'raw',\n",
       "  'id': '7318ce1e-d9b2-403a-8293-7c662be761ed',\n",
       "  'linked_attached': True}}"
      ]
     },
     "execution_count": 8,
     "metadata": {},
     "output_type": "execute_result"
    }
   ],
   "source": [
    "# the linked_attached column shows wheter the raw/processed are both attached to the capule\n",
    "# use conveient property methods to sort\n",
    "loader.linked_data_assets"
   ]
  },
  {
   "cell_type": "code",
   "execution_count": 10,
   "metadata": {},
   "outputs": [
    {
     "data": {
      "text/plain": [
       "{'multiplane-ophys_692478_2023-09-29_10-10-00_processed_2024-01-12_22-05-17': {'path': PosixPath('/root/capsule/data/multiplane-ophys_692478_2023-09-29_10-10-00_processed_2024-01-12_22-05-17'),\n",
       "  'type': 'processed',\n",
       "  'id': '1a0a663b-aa19-4b82-93a1-325f1b44cda6',\n",
       "  'linked_attached': False},\n",
       " 'multiplane-ophys_681417_2023-08-03_10-13-58_processed_2024-02-08_23-27-56': {'path': PosixPath('/root/capsule/data/multiplane-ophys_681417_2023-08-03_10-13-58_processed_2024-02-08_23-27-56'),\n",
       "  'type': 'processed',\n",
       "  'id': 'd43b2d9b-0781-4fa6-9761-72455da3d61c',\n",
       "  'linked_attached': False},\n",
       " 'multiplane-ophys_692478_2023-10-02_10-17-06_processed_2024-01-12_22-04-40': {'path': PosixPath('/root/capsule/data/multiplane-ophys_692478_2023-10-02_10-17-06_processed_2024-01-12_22-04-40'),\n",
       "  'type': 'processed',\n",
       "  'id': '4f4ed26c-a0f9-4e52-b347-f3c4b170e1ad',\n",
       "  'linked_attached': False},\n",
       " 'multiplane-ophys_677594_2023-08-05_09-53-49_processed_2024-02-08_23-27-20': {'path': PosixPath('/root/capsule/data/multiplane-ophys_677594_2023-08-05_09-53-49_processed_2024-02-08_23-27-20'),\n",
       "  'type': 'processed',\n",
       "  'id': '4e41efd6-cf6e-440b-83dd-9e777f2540b0',\n",
       "  'linked_attached': False},\n",
       " 'multiplane-ophys_689393_2023-10-03_10-37-43_processed_2024-02-05_03-31-56': {'path': PosixPath('/root/capsule/data/multiplane-ophys_689393_2023-10-03_10-37-43_processed_2024-02-05_03-31-56'),\n",
       "  'type': 'processed',\n",
       "  'id': '9c51877e-5d42-484b-9e9a-472c3c4b90f7',\n",
       "  'linked_attached': False},\n",
       " 'multiplane-ophys_687001_2023-10-23_12-45-50_processed_2024-01-14_16-34-05': {'path': PosixPath('/root/capsule/data/multiplane-ophys_687001_2023-10-23_12-45-50_processed_2024-01-14_16-34-05'),\n",
       "  'type': 'processed',\n",
       "  'id': 'bcca0098-4e4b-493e-b720-e9a642fadba2',\n",
       "  'linked_attached': False},\n",
       " 'multiplane-ophys_685789_2023-09-26_13-18-07_processed_2024-02-05_03-29-30': {'path': PosixPath('/root/capsule/data/multiplane-ophys_685789_2023-09-26_13-18-07_processed_2024-02-05_03-29-30'),\n",
       "  'type': 'processed',\n",
       "  'id': 'c500e1bc-8e6c-4af8-83b1-44964df12482',\n",
       "  'linked_attached': False},\n",
       " 'multiplane-ophys_484408_2019-11-04_01-21-00_processed_2024-03-01_21-51-29': {'path': PosixPath('/root/capsule/data/multiplane-ophys_484408_2019-11-04_01-21-00_processed_2024-03-01_21-51-29'),\n",
       "  'type': 'processed',\n",
       "  'id': 'e27dc4c9-b0a4-44a4-925f-45899d37122a',\n",
       "  'linked_attached': False},\n",
       " 'multiplane-ophys_485152_2019-12-09_13-04-09_processed_2024-02-12_02-53-53': {'path': PosixPath('/root/capsule/data/multiplane-ophys_485152_2019-12-09_13-04-09_processed_2024-02-12_02-53-53'),\n",
       "  'type': 'processed',\n",
       "  'id': '726968e5-eb99-4e7e-ba35-45fc4de2afca',\n",
       "  'linked_attached': False}}"
      ]
     },
     "execution_count": 10,
     "metadata": {},
     "output_type": "execute_result"
    }
   ],
   "source": [
    "loader.unlinked_data_assets"
   ]
  },
  {
   "cell_type": "markdown",
   "metadata": {},
   "source": [
    "## Attaching data to the capsule\n",
    "+ two main functions\n",
    "    + loader.attach()\n",
    "    + loader.attach_linked_data_asset()"
   ]
  },
  {
   "cell_type": "markdown",
   "metadata": {},
   "source": [
    "Use `loader.attach()` if you have a data asset of list of data assets that you want to attach to the capsule.\n",
    "Input takes the form of [{'name': XXXX, 'id': XXXXX}, {'name': YYYY, 'id': YYYYY}]\n",
    "\n",
    "\n",
    "If the data asset was successfully attached, you will see this response (note: mount_state = mounted)\n",
    "```\n",
    "[{\"external\":false,\"id\":\"726968e5-eb99-4e7e-ba35-45fc4de2afca\",\"job_id\":\"\",\"mount\":\"multiplane-ophys_485152_2019-12-09_13-04-09_processed_2024-02-12_02-53-53\",\"mount_state\":\"mounted\",\"ready\":true}]\n",
    "```\n",
    "\n",
    "If the data asset was already attached, you will see this response (note: mount_state = mounted)\n",
    "```\n",
    "[{\"external\":false,\"id\":\"726968e5-eb99-4e7e-ba35-45fc4de2afca\",\"job_id\":\"\",\"mount\":\"multiplane-ophys_485152_2019-12-09_13-04-09_processed_2024-02-12_02-53-53\",\"mount_state\":\"unchanged\",\"ready\":true}]\n",
    "```"
   ]
  },
  {
   "cell_type": "code",
   "execution_count": null,
   "metadata": {},
   "outputs": [],
   "source": [
    "\n",
    "name = ''\n",
    "id = ''\n",
    "\n",
    "data = [{'name': name, 'id': id}]\n",
    "loader.attach(data)"
   ]
  },
  {
   "cell_type": "markdown",
   "metadata": {},
   "source": [
    "Use `loader.attach_linked_data_asset()` to find the linked data asset for the given input data sets (using CodeOceanDataExplorer) and attach them to the capsule\n",
    "\n",
    "How convenient!"
   ]
  },
  {
   "cell_type": "code",
   "execution_count": null,
   "metadata": {},
   "outputs": [],
   "source": [
    "name = ''\n",
    "id = ''\n",
    "\n",
    "data = [{'name': name, 'id': id}]\n",
    "loader.attach_linked_data_asset(data)"
   ]
  }
 ],
 "metadata": {
  "kernelspec": {
   "display_name": "base",
   "language": "python",
   "name": "python3"
  },
  "language_info": {
   "codemirror_mode": {
    "name": "ipython",
    "version": 3
   },
   "file_extension": ".py",
   "mimetype": "text/x-python",
   "name": "python",
   "nbconvert_exporter": "python",
   "pygments_lexer": "ipython3",
   "version": "3.9.12"
  }
 },
 "nbformat": 4,
 "nbformat_minor": 2
}
