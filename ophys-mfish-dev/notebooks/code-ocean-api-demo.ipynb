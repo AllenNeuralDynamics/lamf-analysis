{
 "cells": [
  {
   "cell_type": "code",
   "execution_count": 1,
   "metadata": {},
   "outputs": [],
   "source": [
    "from aind_codeocean_api.codeocean import CodeOceanClient, CodeOceanCredentials\n",
    "from datetime import datetime\n",
    "from pathlib import Path\n",
    "\n",
    "import pandas as pd\n",
    "import json"
   ]
  },
  {
   "cell_type": "markdown",
   "metadata": {},
   "source": [
    "# 0. Connect to CodeOcean"
   ]
  },
  {
   "cell_type": "code",
   "execution_count": 2,
   "metadata": {},
   "outputs": [],
   "source": [
    "domain = \"https://codeocean.allenneuraldynamics.org/\"\n",
    "token = \"cop_ZDcyZjY4MDBhMGNmNDVkNGI1MjdjZTI5ODVkODU3YWJlWmhxSVV5bDR4dWxDTTVoUXJqZGF6OWViUVJXMmwxMmYyMTdmZDhj\"\n",
    "co_client = CodeOceanClient(domain=domain, token=token)"
   ]
  },
  {
   "cell_type": "markdown",
   "metadata": {},
   "source": [
    "# 1. Get Data Assest with id"
   ]
  },
  {
   "cell_type": "code",
   "execution_count": 3,
   "metadata": {},
   "outputs": [
    {
     "data": {
      "text/plain": [
       "{'created': 1692449614,\n",
       " 'custom_metadata': {'data level': 'raw data',\n",
       "  'experiment type': 'multiplane-ophys',\n",
       "  'modality': 'Optical physiology',\n",
       "  'subject id': '472271'},\n",
       " 'description': '',\n",
       " 'files': 2273,\n",
       " 'id': '6314acc5-4275-4f4a-a183-07bf093e349f',\n",
       " 'last_used': 0,\n",
       " 'name': 'multiplane-ophys_472271_2019-10-07_05-46-00',\n",
       " 'size': 195238734812,\n",
       " 'sourceBucket': {'bucket': 'aind-ophys-data',\n",
       "  'origin': 'aws',\n",
       "  'prefix': 'multiplane-ophys_472271_2019-10-07_05-46-00'},\n",
       " 'state': 'ready',\n",
       " 'tags': ['multiplane-ophys', 'raw', '472271'],\n",
       " 'type': 'dataset'}"
      ]
     },
     "execution_count": 3,
     "metadata": {},
     "output_type": "execute_result"
    }
   ],
   "source": [
    "# data asset\n",
    "data_asset_id = \"6314acc5-4275-4f4a-a183-07bf093e349f\"\n",
    "response = co_client.get_data_asset(data_asset_id=data_asset_id)\n",
    "metadata = response.json()\n",
    "metadata"
   ]
  },
  {
   "cell_type": "markdown",
   "metadata": {},
   "source": [
    "# 2. Query all data assets"
   ]
  },
  {
   "cell_type": "code",
   "execution_count": 18,
   "metadata": {},
   "outputs": [
    {
     "name": "stdout",
     "output_type": "stream",
     "text": [
      "Found 510 results\n"
     ]
    },
    {
     "data": {
      "text/plain": [
       "[{'created': 1692423326,\n",
       "  'custom_metadata': {'data level': 'raw data',\n",
       "   'experiment type': 'multiplane-ophys',\n",
       "   'modality': 'Optical physiology',\n",
       "   'subject id': '484408'},\n",
       "  'description': '',\n",
       "  'files': 5193,\n",
       "  'id': '8a79a736-a892-4a87-b907-97a25975ef89',\n",
       "  'last_used': 0,\n",
       "  'name': 'multiplane-ophys_484408_2019-11-04_01-21-00',\n",
       "  'size': 384001873508,\n",
       "  'sourceBucket': {'bucket': 'aind-ophys-data',\n",
       "   'origin': 'aws',\n",
       "   'prefix': 'multiplane-ophys_484408_2019-11-04_01-21-00'},\n",
       "  'state': 'ready',\n",
       "  'tags': ['multiplane-ophys', 'raw', '484408'],\n",
       "  'type': 'dataset'},\n",
       " {'created': 1692398549,\n",
       "  'custom_metadata': {'data level': 'raw data',\n",
       "   'experiment type': 'multiplane-ophys',\n",
       "   'modality': 'Optical physiology',\n",
       "   'subject id': '499478'},\n",
       "  'description': '',\n",
       "  'files': 1360,\n",
       "  'id': 'ef94bc7c-d5cc-4970-a8ed-2656d0315d9b',\n",
       "  'last_used': 0,\n",
       "  'name': 'multiplane-ophys_499478_2020-02-21_01-10-00',\n",
       "  'size': 343930657037,\n",
       "  'sourceBucket': {'bucket': 'aind-ophys-data',\n",
       "   'origin': 'aws',\n",
       "   'prefix': 'multiplane-ophys_499478_2020-02-21_01-10-00'},\n",
       "  'state': 'ready',\n",
       "  'tags': ['multiplane-ophys', 'raw', '499478'],\n",
       "  'type': 'dataset'},\n",
       " {'created': 1698090714,\n",
       "  'description': '',\n",
       "  'files': 1139,\n",
       "  'id': '18b5ab2f-5f32-42ca-b8a7-28376e376d98',\n",
       "  'last_used': 1702076676,\n",
       "  'name': 'multiplane-ophys_681417_2023-07-24_09-57-50_processed_2023-10-22_13-15-00',\n",
       "  'size': 589470988377,\n",
       "  'state': 'ready',\n",
       "  'type': 'result'}]"
      ]
     },
     "execution_count": 18,
     "metadata": {},
     "output_type": "execute_result"
    }
   ],
   "source": [
    "query = \"multiplane\"\n",
    "\n",
    "response = co_client.search_all_data_assets(query=query)\n",
    "mp = response.json()\n",
    "results = mp['results']\n",
    "print(f\"Found {len(results)} results\")\n",
    "results[0:3]\n",
    "\n",
    "# dump to json\n",
    "# with open('results_from_mjd.json', 'w') as outfile:\n",
    "#     json.dump(results, outfile)\n"
   ]
  },
  {
   "cell_type": "code",
   "execution_count": 19,
   "metadata": {},
   "outputs": [
    {
     "name": "stdout",
     "output_type": "stream",
     "text": [
      "Found 384 raw data results\n",
      "Found 126 processed data results\n"
     ]
    }
   ],
   "source": [
    "# filter by processed and raw data (1/10/2024 structure may change in future)\n",
    "\n",
    "raw_data = []\n",
    "processed_data = []\n",
    "for result in results:\n",
    "    try: \n",
    "        if result['custom_metadata']['data level'] == 'raw data':\n",
    "            raw_data.append(result)\n",
    "        else:\n",
    "            # maybe custom metadata key will be added to processed in future\n",
    "            processed_data.append(result)\n",
    "    except KeyError:\n",
    "        processed_data.append(result)\n",
    "\n",
    "# print n of each\n",
    "print(f\"Found {len(raw_data)} raw data results\")\n",
    "print(f\"Found {len(processed_data)} processed data results\")"
   ]
  },
  {
   "cell_type": "markdown",
   "metadata": {},
   "source": [
    "# 3. Matching LIMS date-time to CO date-time\n",
    "\n",
    "1) Get data asset datetime\n",
    "    + Get a date from the string in the data assest \"name\" key (e.g. multiplane-ophys_477052_2019-10-17_16-15-26)\n",
    "    + convert to datetime object\n",
    "2) Get ophys_session datetime (stored in json on lims)\n",
    "    + Get ophys_session table from lims\n",
    "    + For each row, open platform.json that stores correct datetime in the first imaging group key\n",
    "    + add that datetime to the table\n",
    "3) find matching datetimes\n",
    "\n"
   ]
  },
  {
   "cell_type": "code",
   "execution_count": 24,
   "metadata": {},
   "outputs": [],
   "source": [
    "# NOTE: change filepath to match your local setup\n",
    "session_table_path = \"/home/matt.davis/code/ophys-mfish-dev/ophys-mfish-dev/lims_tables/ophys_sessions.json\""
   ]
  },
  {
   "cell_type": "code",
   "execution_count": 37,
   "metadata": {},
   "outputs": [],
   "source": [
    "# load LIMS sessions table\n",
    "def load_session_table(session_table_path):\n",
    "\n",
    "    session_table_path = Path(session_table_path)\n",
    "    df = pd.read_json(session_table_path)\n",
    "    df = df.sort_values(by=['date_of_acquisition'])\n",
    "    #df = df[df['date_of_acquisition'] > '2023-01-01']\n",
    "    df = df[df['date_of_acquisition'] > '2018-01-01']\n",
    "\n",
    "    df = df[df['storage_directory'].notnull()]\n",
    "\n",
    "    print(f\"Loaded {len(df)} sessions from {session_table_path}\")\n",
    "    return df\n",
    "\n",
    "\n",
    "def get_platform_datetime_meso(session_dir):\n",
    "\n",
    "    session_dir = Path(session_dir)\n",
    "\n",
    "    try:\n",
    "        processing_file = list(session_dir.glob('*_platform.json'))\n",
    "        assert len(processing_file) == 1\n",
    "\n",
    "        \n",
    "        with open(processing_file[0]) as f:\n",
    "            platform = json.load(f)\n",
    "\n",
    "        assert \"imaging_plane_groups\" in platform.keys(), \"imaging_plane_groups key not not in platform.json\"\n",
    "        platform_ds = platform[\"imaging_plane_groups\"][0][\"imaging_planes\"][0][\"registration\"][\"acquired_at\"]\n",
    "\n",
    "        # make datetime object (e.g. 2023-02-09T12:58:52.385797), ignore microseconds\n",
    "        # NOTE: (Example found in table: ValueError: time data '72018-12-06T14:16:47' does not match format '%Y-%m-%dT%H:%M:%S')\n",
    "        platform_dt = datetime.strptime(platform_ds.split('.')[0], '%Y-%m-%dT%H:%M:%S')\n",
    "    except (AssertionError, ValueError) as e:\n",
    "        platform_dt = None\n",
    "        \n",
    "    return platform_dt\n",
    "\n",
    "\n",
    "def find_dt_match_for_data_assest(co_dt, da_id, df):\n",
    "    \"\"\"\n",
    "    \n",
    "    Parameters\n",
    "    ----------\n",
    "    co_dt : datetime object\n",
    "        datetime object from Code Ocean data asset name.\n",
    "    da_id : str\n",
    "        data asset id.\n",
    "    df : pandas dataframe\n",
    "        dataframe of sessions table.\n",
    "        \n",
    "    \"\"\"\n",
    "    df['match'] = df['platform_datetime'].apply(lambda x: x == co_dt)\n",
    "    match_session_id = df[df['match'] == True].id.values\n",
    "\n",
    "    if len(match_session_id) == 1:\n",
    "        match_session_id = match_session_id[0]\n",
    "    else:\n",
    "        # warn\n",
    "        #print(f\"WARNING: {len(match_session_id)} matches found for {da_id} {co_dt}\")\n",
    "        match_session_id = None\n",
    "\n",
    "    match_dict = {'data_asset_id': da_id,\n",
    "                  'session_id': match_session_id}\n",
    "\n",
    "\n",
    "    return match_dict\n",
    "\n",
    "\n",
    "def get_all_matched_co_and_lims_sessions(results, session_df):\n",
    "    \"\"\"\n",
    "    Parameters\n",
    "    ----------\n",
    "    results : json\n",
    "        json response from Code Ocean search_all_data_assets.\n",
    "    session_df : pandas dataframe\n",
    "        dataframe of sessions table.\n",
    "        \n",
    "    \"\"\"\n",
    "    # if results_json is dict then convert to list\n",
    "    if isinstance(results, dict):\n",
    "        results = results['results']\n",
    "    match_list = []\n",
    "    for da in results:\n",
    "        match = False\n",
    "        name = da['name']\n",
    "        da_id = da['id']\n",
    "        da_ds = name.split('_')[-2] + \"-\" + name.split('_')[-1]\n",
    "        da_dt = datetime.strptime(da_ds, '%Y-%m-%d-%H-%M-%S')\n",
    "        #mid = name.split('_')[-3]\n",
    "\n",
    "        match_dict = find_dt_match_for_data_assest(da_dt, da_id, session_df)\n",
    "\n",
    "        if match_dict['session_id'] is not None:\n",
    "            match_dict['match'] = True\n",
    "\n",
    "        match_list.append(match_dict)\n",
    "        \n",
    "    # make df\n",
    "    matches = pd.DataFrame(match_list)\n",
    "    return matches\n"
   ]
  },
  {
   "cell_type": "code",
   "execution_count": 23,
   "metadata": {},
   "outputs": [
    {
     "name": "stdout",
     "output_type": "stream",
     "text": [
      "multiplane-ophys_477052_2019-10-17_16-15-26\n",
      "2019-10-17 16:15:26\n",
      "477052\n"
     ]
    }
   ],
   "source": [
    "# EXAMPLE: getting datetime object from data asset name (don't need to run this cell)\n",
    "\n",
    "da = results[100]\n",
    "da_name = da['name']\n",
    "da_id = da['id']\n",
    "\n",
    "# get datetime object from name, format: 2019-11-04_01-21-00\n",
    "da_date_str = da_name.split('_')[-2] + \"-\" +da_name.split('_')[-1]\n",
    "da_datetime = datetime.strptime(da_date_str, '%Y-%m-%d-%H-%M-%S')\n",
    "da_mouse_id = da_name.split('_')[-3]\n",
    "\n",
    "print(da_name)\n",
    "print(da_datetime)\n",
    "print(da_mouse_id)"
   ]
  },
  {
   "cell_type": "code",
   "execution_count": 38,
   "metadata": {},
   "outputs": [
    {
     "name": "stdout",
     "output_type": "stream",
     "text": [
      "Loaded 8041 sessions from /home/matt.davis/code/ophys-mfish-dev/ophys-mfish-dev/lims_tables/ophys_sessions.json\n"
     ]
    },
    {
     "ename": "ValueError",
     "evalue": "time data '72018-12-06T14:16:47' does not match format '%Y-%m-%dT%H:%M:%S'",
     "output_type": "error",
     "traceback": [
      "\u001b[0;31m---------------------------------------------------------------------------\u001b[0m",
      "\u001b[0;31mValueError\u001b[0m                                Traceback (most recent call last)",
      "Cell \u001b[0;32mIn[38], line 7\u001b[0m\n\u001b[1;32m      4\u001b[0m df_sessions \u001b[38;5;241m=\u001b[39m load_session_table(session_table_path)\n\u001b[1;32m      6\u001b[0m df \u001b[38;5;241m=\u001b[39m df_sessions\u001b[38;5;241m.\u001b[39mcopy()\n\u001b[0;32m----> 7\u001b[0m df[\u001b[38;5;124m'\u001b[39m\u001b[38;5;124mplatform_datetime\u001b[39m\u001b[38;5;124m'\u001b[39m] \u001b[38;5;241m=\u001b[39m \u001b[43mdf\u001b[49m\u001b[43m[\u001b[49m\u001b[38;5;124;43m'\u001b[39;49m\u001b[38;5;124;43mstorage_directory\u001b[39;49m\u001b[38;5;124;43m'\u001b[39;49m\u001b[43m]\u001b[49m\u001b[38;5;241;43m.\u001b[39;49m\u001b[43mapply\u001b[49m\u001b[43m(\u001b[49m\u001b[43mget_platform_datetime_meso\u001b[49m\u001b[43m)\u001b[49m\n\u001b[1;32m      8\u001b[0m df \u001b[38;5;241m=\u001b[39m df[df[\u001b[38;5;124m'\u001b[39m\u001b[38;5;124mplatform_datetime\u001b[39m\u001b[38;5;124m'\u001b[39m]\u001b[38;5;241m.\u001b[39mnotnull()]\n\u001b[1;32m      9\u001b[0m \u001b[38;5;28mprint\u001b[39m(\u001b[38;5;124mf\u001b[39m\u001b[38;5;124m\"\u001b[39m\u001b[38;5;124mRemoved \u001b[39m\u001b[38;5;132;01m{\u001b[39;00m\u001b[38;5;28mlen\u001b[39m(df_sessions)\u001b[38;5;250m \u001b[39m\u001b[38;5;241m-\u001b[39m\u001b[38;5;250m \u001b[39m\u001b[38;5;28mlen\u001b[39m(df)\u001b[38;5;132;01m}\u001b[39;00m\u001b[38;5;124m sessions with no platform datetime\u001b[39m\u001b[38;5;124m\"\u001b[39m)\n",
      "File \u001b[0;32m/data/learning/mattd/miniconda3/envs/dev/lib/python3.8/site-packages/pandas/core/series.py:4771\u001b[0m, in \u001b[0;36mSeries.apply\u001b[0;34m(self, func, convert_dtype, args, **kwargs)\u001b[0m\n\u001b[1;32m   4661\u001b[0m \u001b[38;5;28;01mdef\u001b[39;00m \u001b[38;5;21mapply\u001b[39m(\n\u001b[1;32m   4662\u001b[0m     \u001b[38;5;28mself\u001b[39m,\n\u001b[1;32m   4663\u001b[0m     func: AggFuncType,\n\u001b[0;32m   (...)\u001b[0m\n\u001b[1;32m   4666\u001b[0m     \u001b[38;5;241m*\u001b[39m\u001b[38;5;241m*\u001b[39mkwargs,\n\u001b[1;32m   4667\u001b[0m ) \u001b[38;5;241m-\u001b[39m\u001b[38;5;241m>\u001b[39m DataFrame \u001b[38;5;241m|\u001b[39m Series:\n\u001b[1;32m   4668\u001b[0m \u001b[38;5;250m    \u001b[39m\u001b[38;5;124;03m\"\"\"\u001b[39;00m\n\u001b[1;32m   4669\u001b[0m \u001b[38;5;124;03m    Invoke function on values of Series.\u001b[39;00m\n\u001b[1;32m   4670\u001b[0m \n\u001b[0;32m   (...)\u001b[0m\n\u001b[1;32m   4769\u001b[0m \u001b[38;5;124;03m    dtype: float64\u001b[39;00m\n\u001b[1;32m   4770\u001b[0m \u001b[38;5;124;03m    \"\"\"\u001b[39;00m\n\u001b[0;32m-> 4771\u001b[0m     \u001b[38;5;28;01mreturn\u001b[39;00m \u001b[43mSeriesApply\u001b[49m\u001b[43m(\u001b[49m\u001b[38;5;28;43mself\u001b[39;49m\u001b[43m,\u001b[49m\u001b[43m \u001b[49m\u001b[43mfunc\u001b[49m\u001b[43m,\u001b[49m\u001b[43m \u001b[49m\u001b[43mconvert_dtype\u001b[49m\u001b[43m,\u001b[49m\u001b[43m \u001b[49m\u001b[43margs\u001b[49m\u001b[43m,\u001b[49m\u001b[43m \u001b[49m\u001b[43mkwargs\u001b[49m\u001b[43m)\u001b[49m\u001b[38;5;241;43m.\u001b[39;49m\u001b[43mapply\u001b[49m\u001b[43m(\u001b[49m\u001b[43m)\u001b[49m\n",
      "File \u001b[0;32m/data/learning/mattd/miniconda3/envs/dev/lib/python3.8/site-packages/pandas/core/apply.py:1123\u001b[0m, in \u001b[0;36mSeriesApply.apply\u001b[0;34m(self)\u001b[0m\n\u001b[1;32m   1120\u001b[0m     \u001b[38;5;28;01mreturn\u001b[39;00m \u001b[38;5;28mself\u001b[39m\u001b[38;5;241m.\u001b[39mapply_str()\n\u001b[1;32m   1122\u001b[0m \u001b[38;5;66;03m# self.f is Callable\u001b[39;00m\n\u001b[0;32m-> 1123\u001b[0m \u001b[38;5;28;01mreturn\u001b[39;00m \u001b[38;5;28;43mself\u001b[39;49m\u001b[38;5;241;43m.\u001b[39;49m\u001b[43mapply_standard\u001b[49m\u001b[43m(\u001b[49m\u001b[43m)\u001b[49m\n",
      "File \u001b[0;32m/data/learning/mattd/miniconda3/envs/dev/lib/python3.8/site-packages/pandas/core/apply.py:1174\u001b[0m, in \u001b[0;36mSeriesApply.apply_standard\u001b[0;34m(self)\u001b[0m\n\u001b[1;32m   1172\u001b[0m     \u001b[38;5;28;01melse\u001b[39;00m:\n\u001b[1;32m   1173\u001b[0m         values \u001b[38;5;241m=\u001b[39m obj\u001b[38;5;241m.\u001b[39mastype(\u001b[38;5;28mobject\u001b[39m)\u001b[38;5;241m.\u001b[39m_values\n\u001b[0;32m-> 1174\u001b[0m         mapped \u001b[38;5;241m=\u001b[39m \u001b[43mlib\u001b[49m\u001b[38;5;241;43m.\u001b[39;49m\u001b[43mmap_infer\u001b[49m\u001b[43m(\u001b[49m\n\u001b[1;32m   1175\u001b[0m \u001b[43m            \u001b[49m\u001b[43mvalues\u001b[49m\u001b[43m,\u001b[49m\n\u001b[1;32m   1176\u001b[0m \u001b[43m            \u001b[49m\u001b[43mf\u001b[49m\u001b[43m,\u001b[49m\n\u001b[1;32m   1177\u001b[0m \u001b[43m            \u001b[49m\u001b[43mconvert\u001b[49m\u001b[38;5;241;43m=\u001b[39;49m\u001b[38;5;28;43mself\u001b[39;49m\u001b[38;5;241;43m.\u001b[39;49m\u001b[43mconvert_dtype\u001b[49m\u001b[43m,\u001b[49m\n\u001b[1;32m   1178\u001b[0m \u001b[43m        \u001b[49m\u001b[43m)\u001b[49m\n\u001b[1;32m   1180\u001b[0m \u001b[38;5;28;01mif\u001b[39;00m \u001b[38;5;28mlen\u001b[39m(mapped) \u001b[38;5;129;01mand\u001b[39;00m \u001b[38;5;28misinstance\u001b[39m(mapped[\u001b[38;5;241m0\u001b[39m], ABCSeries):\n\u001b[1;32m   1181\u001b[0m     \u001b[38;5;66;03m# GH#43986 Need to do list(mapped) in order to get treated as nested\u001b[39;00m\n\u001b[1;32m   1182\u001b[0m     \u001b[38;5;66;03m#  See also GH#25959 regarding EA support\u001b[39;00m\n\u001b[1;32m   1183\u001b[0m     \u001b[38;5;28;01mreturn\u001b[39;00m obj\u001b[38;5;241m.\u001b[39m_constructor_expanddim(\u001b[38;5;28mlist\u001b[39m(mapped), index\u001b[38;5;241m=\u001b[39mobj\u001b[38;5;241m.\u001b[39mindex)\n",
      "File \u001b[0;32m/data/learning/mattd/miniconda3/envs/dev/lib/python3.8/site-packages/pandas/_libs/lib.pyx:2924\u001b[0m, in \u001b[0;36mpandas._libs.lib.map_infer\u001b[0;34m()\u001b[0m\n",
      "Cell \u001b[0;32mIn[37], line 32\u001b[0m, in \u001b[0;36mget_platform_datetime_meso\u001b[0;34m(session_dir)\u001b[0m\n\u001b[1;32m     29\u001b[0m     platform_ds \u001b[38;5;241m=\u001b[39m platform[\u001b[38;5;124m\"\u001b[39m\u001b[38;5;124mimaging_plane_groups\u001b[39m\u001b[38;5;124m\"\u001b[39m][\u001b[38;5;241m0\u001b[39m][\u001b[38;5;124m\"\u001b[39m\u001b[38;5;124mimaging_planes\u001b[39m\u001b[38;5;124m\"\u001b[39m][\u001b[38;5;241m0\u001b[39m][\u001b[38;5;124m\"\u001b[39m\u001b[38;5;124mregistration\u001b[39m\u001b[38;5;124m\"\u001b[39m][\u001b[38;5;124m\"\u001b[39m\u001b[38;5;124macquired_at\u001b[39m\u001b[38;5;124m\"\u001b[39m]\n\u001b[1;32m     31\u001b[0m     \u001b[38;5;66;03m# make datetime object (e.g. 2023-02-09T12:58:52.385797), ignore microseconds\u001b[39;00m\n\u001b[0;32m---> 32\u001b[0m     platform_dt \u001b[38;5;241m=\u001b[39m \u001b[43mdatetime\u001b[49m\u001b[38;5;241;43m.\u001b[39;49m\u001b[43mstrptime\u001b[49m\u001b[43m(\u001b[49m\u001b[43mplatform_ds\u001b[49m\u001b[38;5;241;43m.\u001b[39;49m\u001b[43msplit\u001b[49m\u001b[43m(\u001b[49m\u001b[38;5;124;43m'\u001b[39;49m\u001b[38;5;124;43m.\u001b[39;49m\u001b[38;5;124;43m'\u001b[39;49m\u001b[43m)\u001b[49m\u001b[43m[\u001b[49m\u001b[38;5;241;43m0\u001b[39;49m\u001b[43m]\u001b[49m\u001b[43m,\u001b[49m\u001b[43m \u001b[49m\u001b[38;5;124;43m'\u001b[39;49m\u001b[38;5;124;43m%\u001b[39;49m\u001b[38;5;124;43mY-\u001b[39;49m\u001b[38;5;124;43m%\u001b[39;49m\u001b[38;5;124;43mm-\u001b[39;49m\u001b[38;5;132;43;01m%d\u001b[39;49;00m\u001b[38;5;124;43mT\u001b[39;49m\u001b[38;5;124;43m%\u001b[39;49m\u001b[38;5;124;43mH:\u001b[39;49m\u001b[38;5;124;43m%\u001b[39;49m\u001b[38;5;124;43mM:\u001b[39;49m\u001b[38;5;124;43m%\u001b[39;49m\u001b[38;5;124;43mS\u001b[39;49m\u001b[38;5;124;43m'\u001b[39;49m\u001b[43m)\u001b[49m\n\u001b[1;32m     33\u001b[0m \u001b[38;5;28;01mexcept\u001b[39;00m \u001b[38;5;167;01mAssertionError\u001b[39;00m \u001b[38;5;28;01mas\u001b[39;00m e:\n\u001b[1;32m     34\u001b[0m     platform_dt \u001b[38;5;241m=\u001b[39m \u001b[38;5;28;01mNone\u001b[39;00m\n",
      "File \u001b[0;32m/data/learning/mattd/miniconda3/envs/dev/lib/python3.8/_strptime.py:568\u001b[0m, in \u001b[0;36m_strptime_datetime\u001b[0;34m(cls, data_string, format)\u001b[0m\n\u001b[1;32m    565\u001b[0m \u001b[38;5;28;01mdef\u001b[39;00m \u001b[38;5;21m_strptime_datetime\u001b[39m(\u001b[38;5;28mcls\u001b[39m, data_string, \u001b[38;5;28mformat\u001b[39m\u001b[38;5;241m=\u001b[39m\u001b[38;5;124m\"\u001b[39m\u001b[38;5;132;01m%a\u001b[39;00m\u001b[38;5;124m \u001b[39m\u001b[38;5;124m%\u001b[39m\u001b[38;5;124mb \u001b[39m\u001b[38;5;132;01m%d\u001b[39;00m\u001b[38;5;124m \u001b[39m\u001b[38;5;124m%\u001b[39m\u001b[38;5;124mH:\u001b[39m\u001b[38;5;124m%\u001b[39m\u001b[38;5;124mM:\u001b[39m\u001b[38;5;124m%\u001b[39m\u001b[38;5;124mS \u001b[39m\u001b[38;5;124m%\u001b[39m\u001b[38;5;124mY\u001b[39m\u001b[38;5;124m\"\u001b[39m):\n\u001b[1;32m    566\u001b[0m \u001b[38;5;250m    \u001b[39m\u001b[38;5;124;03m\"\"\"Return a class cls instance based on the input string and the\u001b[39;00m\n\u001b[1;32m    567\u001b[0m \u001b[38;5;124;03m    format string.\"\"\"\u001b[39;00m\n\u001b[0;32m--> 568\u001b[0m     tt, fraction, gmtoff_fraction \u001b[38;5;241m=\u001b[39m \u001b[43m_strptime\u001b[49m\u001b[43m(\u001b[49m\u001b[43mdata_string\u001b[49m\u001b[43m,\u001b[49m\u001b[43m \u001b[49m\u001b[38;5;28;43mformat\u001b[39;49m\u001b[43m)\u001b[49m\n\u001b[1;32m    569\u001b[0m     tzname, gmtoff \u001b[38;5;241m=\u001b[39m tt[\u001b[38;5;241m-\u001b[39m\u001b[38;5;241m2\u001b[39m:]\n\u001b[1;32m    570\u001b[0m     args \u001b[38;5;241m=\u001b[39m tt[:\u001b[38;5;241m6\u001b[39m] \u001b[38;5;241m+\u001b[39m (fraction,)\n",
      "File \u001b[0;32m/data/learning/mattd/miniconda3/envs/dev/lib/python3.8/_strptime.py:349\u001b[0m, in \u001b[0;36m_strptime\u001b[0;34m(data_string, format)\u001b[0m\n\u001b[1;32m    347\u001b[0m found \u001b[38;5;241m=\u001b[39m format_regex\u001b[38;5;241m.\u001b[39mmatch(data_string)\n\u001b[1;32m    348\u001b[0m \u001b[38;5;28;01mif\u001b[39;00m \u001b[38;5;129;01mnot\u001b[39;00m found:\n\u001b[0;32m--> 349\u001b[0m     \u001b[38;5;28;01mraise\u001b[39;00m \u001b[38;5;167;01mValueError\u001b[39;00m(\u001b[38;5;124m\"\u001b[39m\u001b[38;5;124mtime data \u001b[39m\u001b[38;5;132;01m%r\u001b[39;00m\u001b[38;5;124m does not match format \u001b[39m\u001b[38;5;132;01m%r\u001b[39;00m\u001b[38;5;124m\"\u001b[39m \u001b[38;5;241m%\u001b[39m\n\u001b[1;32m    350\u001b[0m                      (data_string, \u001b[38;5;28mformat\u001b[39m))\n\u001b[1;32m    351\u001b[0m \u001b[38;5;28;01mif\u001b[39;00m \u001b[38;5;28mlen\u001b[39m(data_string) \u001b[38;5;241m!=\u001b[39m found\u001b[38;5;241m.\u001b[39mend():\n\u001b[1;32m    352\u001b[0m     \u001b[38;5;28;01mraise\u001b[39;00m \u001b[38;5;167;01mValueError\u001b[39;00m(\u001b[38;5;124m\"\u001b[39m\u001b[38;5;124munconverted data remains: \u001b[39m\u001b[38;5;132;01m%s\u001b[39;00m\u001b[38;5;124m\"\u001b[39m \u001b[38;5;241m%\u001b[39m\n\u001b[1;32m    353\u001b[0m                       data_string[found\u001b[38;5;241m.\u001b[39mend():])\n",
      "\u001b[0;31mValueError\u001b[0m: time data '72018-12-06T14:16:47' does not match format '%Y-%m-%dT%H:%M:%S'"
     ]
    }
   ],
   "source": [
    "#data_assets_list = processed_data # don't think processed data will work\n",
    "data_assets_list = raw_data\n",
    "\n",
    "df_sessions = load_session_table(session_table_path)\n",
    "\n",
    "df = df_sessions.copy()\n",
    "df['platform_datetime'] = df['storage_directory'].apply(get_platform_datetime_meso)\n",
    "df = df[df['platform_datetime'].notnull()]\n",
    "print(f\"Removed {len(df_sessions) - len(df)} sessions with no platform datetime\")\n",
    "print(f\"Remaining sessions: {len(df)}\")\n",
    "\n",
    "\n",
    "df_match = get_all_matched_co_and_lims_sessions(data_assets_list, df)\n",
    "df_match.head()\n",
    "print(f\"Found {len(df_match[df_match['match'] == True])} matches\")"
   ]
  },
  {
   "cell_type": "code",
   "execution_count": 16,
   "metadata": {},
   "outputs": [
    {
     "data": {
      "text/html": [
       "<div>\n",
       "<style scoped>\n",
       "    .dataframe tbody tr th:only-of-type {\n",
       "        vertical-align: middle;\n",
       "    }\n",
       "\n",
       "    .dataframe tbody tr th {\n",
       "        vertical-align: top;\n",
       "    }\n",
       "\n",
       "    .dataframe thead th {\n",
       "        text-align: right;\n",
       "    }\n",
       "</style>\n",
       "<table border=\"1\" class=\"dataframe\">\n",
       "  <thead>\n",
       "    <tr style=\"text-align: right;\">\n",
       "      <th></th>\n",
       "      <th>data_asset_id</th>\n",
       "      <th>session_id</th>\n",
       "      <th>match</th>\n",
       "    </tr>\n",
       "  </thead>\n",
       "  <tbody>\n",
       "    <tr>\n",
       "      <th>26</th>\n",
       "      <td>0bd7d39f-5435-4c74-9c2c-4143e5644148</td>\n",
       "      <td>1.262863e+09</td>\n",
       "      <td>True</td>\n",
       "    </tr>\n",
       "    <tr>\n",
       "      <th>27</th>\n",
       "      <td>22e690d7-2c29-43a8-ad7f-366599dfae5c</td>\n",
       "      <td>1.267183e+09</td>\n",
       "      <td>True</td>\n",
       "    </tr>\n",
       "    <tr>\n",
       "      <th>28</th>\n",
       "      <td>53904e20-3a0b-4be4-8ac2-b0936d779410</td>\n",
       "      <td>1.307508e+09</td>\n",
       "      <td>True</td>\n",
       "    </tr>\n",
       "    <tr>\n",
       "      <th>29</th>\n",
       "      <td>d71eba24-36de-4707-9041-8d1f4e15139b</td>\n",
       "      <td>1.312421e+09</td>\n",
       "      <td>True</td>\n",
       "    </tr>\n",
       "    <tr>\n",
       "      <th>30</th>\n",
       "      <td>73117348-63cb-46b6-a1a3-e51b9bd8fe46</td>\n",
       "      <td>1.311436e+09</td>\n",
       "      <td>True</td>\n",
       "    </tr>\n",
       "    <tr>\n",
       "      <th>...</th>\n",
       "      <td>...</td>\n",
       "      <td>...</td>\n",
       "      <td>...</td>\n",
       "    </tr>\n",
       "    <tr>\n",
       "      <th>396</th>\n",
       "      <td>1db9390d-5c26-4a0d-b37a-20cbf8984b08</td>\n",
       "      <td>1.287205e+09</td>\n",
       "      <td>True</td>\n",
       "    </tr>\n",
       "    <tr>\n",
       "      <th>397</th>\n",
       "      <td>0c582322-1a75-45f0-8c04-12336f91bf97</td>\n",
       "      <td>1.275235e+09</td>\n",
       "      <td>True</td>\n",
       "    </tr>\n",
       "    <tr>\n",
       "      <th>398</th>\n",
       "      <td>48f8ea2b-e9c3-4988-bf12-107cdff7ba32</td>\n",
       "      <td>1.282665e+09</td>\n",
       "      <td>True</td>\n",
       "    </tr>\n",
       "    <tr>\n",
       "      <th>399</th>\n",
       "      <td>ff24db95-8407-4bba-af0c-bf255d066947</td>\n",
       "      <td>1.287478e+09</td>\n",
       "      <td>True</td>\n",
       "    </tr>\n",
       "    <tr>\n",
       "      <th>400</th>\n",
       "      <td>e80fcfc1-e642-471b-ae59-1a69cef8fd61</td>\n",
       "      <td>1.286956e+09</td>\n",
       "      <td>True</td>\n",
       "    </tr>\n",
       "  </tbody>\n",
       "</table>\n",
       "<p>85 rows × 3 columns</p>\n",
       "</div>"
      ],
      "text/plain": [
       "                            data_asset_id    session_id match\n",
       "26   0bd7d39f-5435-4c74-9c2c-4143e5644148  1.262863e+09  True\n",
       "27   22e690d7-2c29-43a8-ad7f-366599dfae5c  1.267183e+09  True\n",
       "28   53904e20-3a0b-4be4-8ac2-b0936d779410  1.307508e+09  True\n",
       "29   d71eba24-36de-4707-9041-8d1f4e15139b  1.312421e+09  True\n",
       "30   73117348-63cb-46b6-a1a3-e51b9bd8fe46  1.311436e+09  True\n",
       "..                                    ...           ...   ...\n",
       "396  1db9390d-5c26-4a0d-b37a-20cbf8984b08  1.287205e+09  True\n",
       "397  0c582322-1a75-45f0-8c04-12336f91bf97  1.275235e+09  True\n",
       "398  48f8ea2b-e9c3-4988-bf12-107cdff7ba32  1.282665e+09  True\n",
       "399  ff24db95-8407-4bba-af0c-bf255d066947  1.287478e+09  True\n",
       "400  e80fcfc1-e642-471b-ae59-1a69cef8fd61  1.286956e+09  True\n",
       "\n",
       "[85 rows x 3 columns]"
      ]
     },
     "execution_count": 16,
     "metadata": {},
     "output_type": "execute_result"
    }
   ],
   "source": [
    "# true matches\n",
    "df_match[df_match['match'] == True]"
   ]
  }
 ],
 "metadata": {
  "kernelspec": {
   "display_name": "dev",
   "language": "python",
   "name": "python3"
  },
  "language_info": {
   "codemirror_mode": {
    "name": "ipython",
    "version": 3
   },
   "file_extension": ".py",
   "mimetype": "text/x-python",
   "name": "python",
   "nbconvert_exporter": "python",
   "pygments_lexer": "ipython3",
   "version": "3.8.13"
  }
 },
 "nbformat": 4,
 "nbformat_minor": 2
}
