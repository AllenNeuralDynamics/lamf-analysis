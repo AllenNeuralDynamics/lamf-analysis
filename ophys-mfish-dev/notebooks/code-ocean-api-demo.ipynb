{
 "cells": [
  {
   "cell_type": "code",
   "execution_count": 1,
   "metadata": {},
   "outputs": [],
   "source": [
    "from aind_codeocean_api.codeocean import CodeOceanClient, CodeOceanCredentials\n",
    "from datetime import datetime\n",
    "from pathlib import Path\n",
    "\n",
    "import pandas as pd\n",
    "import json"
   ]
  },
  {
   "cell_type": "markdown",
   "metadata": {},
   "source": [
    "# 0. Connect to CodeOcean"
   ]
  },
  {
   "cell_type": "code",
   "execution_count": 2,
   "metadata": {},
   "outputs": [],
   "source": [
    "domain = \"https://codeocean.allenneuraldynamics.org/\"\n",
    "token = \"cop_ZDcyZjY4MDBhMGNmNDVkNGI1MjdjZTI5ODVkODU3YWJlWmhxSVV5bDR4dWxDTTVoUXJqZGF6OWViUVJXMmwxMmYyMTdmZDhj\"\n",
    "co_client = CodeOceanClient(domain=domain, token=token)"
   ]
  },
  {
   "cell_type": "markdown",
   "metadata": {},
   "source": [
    "# 1. Get Data Assest with id"
   ]
  },
  {
   "cell_type": "code",
   "execution_count": 3,
   "metadata": {},
   "outputs": [
    {
     "data": {
      "text/plain": [
       "{'created': 1692449614,\n",
       " 'custom_metadata': {'data level': 'raw data',\n",
       "  'experiment type': 'multiplane-ophys',\n",
       "  'modality': 'Optical physiology',\n",
       "  'subject id': '472271'},\n",
       " 'description': '',\n",
       " 'files': 2273,\n",
       " 'id': '6314acc5-4275-4f4a-a183-07bf093e349f',\n",
       " 'last_used': 0,\n",
       " 'name': 'multiplane-ophys_472271_2019-10-07_05-46-00',\n",
       " 'size': 195238734812,\n",
       " 'sourceBucket': {'bucket': 'aind-ophys-data',\n",
       "  'origin': 'aws',\n",
       "  'prefix': 'multiplane-ophys_472271_2019-10-07_05-46-00'},\n",
       " 'state': 'ready',\n",
       " 'tags': ['multiplane-ophys', 'raw', '472271'],\n",
       " 'type': 'dataset'}"
      ]
     },
     "execution_count": 3,
     "metadata": {},
     "output_type": "execute_result"
    }
   ],
   "source": [
    "# data asset\n",
    "data_asset_id = \"6314acc5-4275-4f4a-a183-07bf093e349f\"\n",
    "response = co_client.get_data_asset(data_asset_id=data_asset_id)\n",
    "metadata = response.json()\n",
    "metadata"
   ]
  },
  {
   "cell_type": "markdown",
   "metadata": {},
   "source": [
    "# 2. Query all data assets"
   ]
  },
  {
   "cell_type": "code",
   "execution_count": 18,
   "metadata": {},
   "outputs": [
    {
     "name": "stdout",
     "output_type": "stream",
     "text": [
      "Found 510 results\n"
     ]
    },
    {
     "data": {
      "text/plain": [
       "[{'created': 1692423326,\n",
       "  'custom_metadata': {'data level': 'raw data',\n",
       "   'experiment type': 'multiplane-ophys',\n",
       "   'modality': 'Optical physiology',\n",
       "   'subject id': '484408'},\n",
       "  'description': '',\n",
       "  'files': 5193,\n",
       "  'id': '8a79a736-a892-4a87-b907-97a25975ef89',\n",
       "  'last_used': 0,\n",
       "  'name': 'multiplane-ophys_484408_2019-11-04_01-21-00',\n",
       "  'size': 384001873508,\n",
       "  'sourceBucket': {'bucket': 'aind-ophys-data',\n",
       "   'origin': 'aws',\n",
       "   'prefix': 'multiplane-ophys_484408_2019-11-04_01-21-00'},\n",
       "  'state': 'ready',\n",
       "  'tags': ['multiplane-ophys', 'raw', '484408'],\n",
       "  'type': 'dataset'},\n",
       " {'created': 1692398549,\n",
       "  'custom_metadata': {'data level': 'raw data',\n",
       "   'experiment type': 'multiplane-ophys',\n",
       "   'modality': 'Optical physiology',\n",
       "   'subject id': '499478'},\n",
       "  'description': '',\n",
       "  'files': 1360,\n",
       "  'id': 'ef94bc7c-d5cc-4970-a8ed-2656d0315d9b',\n",
       "  'last_used': 0,\n",
       "  'name': 'multiplane-ophys_499478_2020-02-21_01-10-00',\n",
       "  'size': 343930657037,\n",
       "  'sourceBucket': {'bucket': 'aind-ophys-data',\n",
       "   'origin': 'aws',\n",
       "   'prefix': 'multiplane-ophys_499478_2020-02-21_01-10-00'},\n",
       "  'state': 'ready',\n",
       "  'tags': ['multiplane-ophys', 'raw', '499478'],\n",
       "  'type': 'dataset'},\n",
       " {'created': 1698090714,\n",
       "  'description': '',\n",
       "  'files': 1139,\n",
       "  'id': '18b5ab2f-5f32-42ca-b8a7-28376e376d98',\n",
       "  'last_used': 1702076676,\n",
       "  'name': 'multiplane-ophys_681417_2023-07-24_09-57-50_processed_2023-10-22_13-15-00',\n",
       "  'size': 589470988377,\n",
       "  'state': 'ready',\n",
       "  'type': 'result'}]"
      ]
     },
     "execution_count": 18,
     "metadata": {},
     "output_type": "execute_result"
    }
   ],
   "source": [
    "query = \"multiplane\"\n",
    "\n",
    "response = co_client.search_all_data_assets(query=query)\n",
    "mp = response.json()\n",
    "results = mp['results']\n",
    "print(f\"Found {len(results)} results\")\n",
    "results[0:3]\n",
    "\n",
    "# dump to json\n",
    "# with open('results_from_mjd.json', 'w') as outfile:\n",
    "#     json.dump(results, outfile)\n"
   ]
  },
  {
   "cell_type": "code",
   "execution_count": 19,
   "metadata": {},
   "outputs": [
    {
     "name": "stdout",
     "output_type": "stream",
     "text": [
      "Found 384 raw data results\n",
      "Found 126 processed data results\n"
     ]
    }
   ],
   "source": [
    "# filter by processed and raw data (1/10/2024 structure may change in future)\n",
    "\n",
    "raw_data = []\n",
    "processed_data = []\n",
    "for result in results:\n",
    "    try: \n",
    "        if result['custom_metadata']['data level'] == 'raw data':\n",
    "            raw_data.append(result)\n",
    "        else:\n",
    "            # maybe custom metadata key will be added to processed in future\n",
    "            processed_data.append(result)\n",
    "    except KeyError:\n",
    "        processed_data.append(result)\n",
    "\n",
    "# print n of each\n",
    "print(f\"Found {len(raw_data)} raw data results\")\n",
    "print(f\"Found {len(processed_data)} processed data results\")"
   ]
  },
  {
   "cell_type": "markdown",
   "metadata": {},
   "source": [
    "# Matching to "
   ]
  },
  {
   "cell_type": "code",
   "execution_count": 20,
   "metadata": {},
   "outputs": [],
   "source": [
    "%history -g -f history.txt"
   ]
  },
  {
   "cell_type": "code",
   "execution_count": 7,
   "metadata": {},
   "outputs": [
    {
     "name": "stdout",
     "output_type": "stream",
     "text": [
      "2019-10-17 16:15:26\n"
     ]
    }
   ],
   "source": [
    "\n",
    "da = results[100]\n",
    "name = da['name']\n",
    "\n",
    "da_id = da['id']\n",
    "\n",
    "# get datetime object from name, formate: 2019-11-04_01-21-00\n",
    "co_ds = name.split('_')[-2] + \"-\" + name.split('_')[-1]\n",
    "co_dt = datetime.strptime(co_ds, '%Y-%m-%d-%H-%M-%S')\n",
    "\n",
    "mid = name.split('_')[-3]\n",
    "print(co_dt)"
   ]
  },
  {
   "cell_type": "code",
   "execution_count": 9,
   "metadata": {},
   "outputs": [
    {
     "name": "stdout",
     "output_type": "stream",
     "text": [
      "Loaded 1013 sessions from /home/matt.davis/code/ophys-mfish-dev/ophys-mfish-dev/lims_tables/ophys_sessions.json\n",
      "Removed 319 sessions with no platform datetime\n",
      "Remaining sessions: 694\n"
     ]
    }
   ],
   "source": [
    "# load LIMS sessions table\n",
    "def load_session_table(session_table_path):\n",
    "\n",
    "    session_table_path = Path(session_table_path)\n",
    "    df = pd.read_json(session_table_path)\n",
    "    df = df.sort_values(by=['date_of_acquisition'])\n",
    "    df = df[df['date_of_acquisition'] > '2023-01-01']\n",
    "\n",
    "    df = df[df['storage_directory'].notnull()]\n",
    "\n",
    "    print(f\"Loaded {len(df)} sessions from {session_table_path}\")\n",
    "    return df\n",
    "\n",
    "\n",
    "def get_platform_datetime_meso(session_dir):\n",
    "\n",
    "    session_dir = Path(session_dir)\n",
    "\n",
    "    try:\n",
    "        processing_file = list(session_dir.glob('*_platform.json'))\n",
    "        assert len(processing_file) == 1\n",
    "\n",
    "        \n",
    "        with open(processing_file[0]) as f:\n",
    "            platform = json.load(f)\n",
    "\n",
    "        assert \"imaging_plane_groups\" in platform.keys(), \"imaging_plane_groups key not not in platform.json\"\n",
    "        platform_ds = platform[\"imaging_plane_groups\"][0][\"imaging_planes\"][0][\"registration\"][\"acquired_at\"]\n",
    "\n",
    "        # make datetime object (e.g. 2023-02-09T12:58:52.385797), ignore microseconds\n",
    "        platform_dt = datetime.strptime(platform_ds.split('.')[0], '%Y-%m-%dT%H:%M:%S')\n",
    "    except AssertionError as e:\n",
    "        platform_dt = None\n",
    "        \n",
    "    return platform_dt\n",
    "\n",
    "\n",
    "session_table_path = \"/home/matt.davis/code/ophys-mfish-dev/ophys-mfish-dev/lims_tables/ophys_sessions.json\"\n",
    "df_sessions = load_session_table(session_table_path)\n",
    "\n",
    "df = df_sessions.copy()\n",
    "df['platform_datetime'] = df['storage_directory'].apply(get_platform_datetime_meso)\n",
    "df = df[df['platform_datetime'].notnull()]\n",
    "print(f\"Removed {len(df_sessions) - len(df)} sessions with no platform datetime\")\n",
    "print(f\"Remaining sessions: {len(df)}\")\n",
    "\n",
    "\n"
   ]
  },
  {
   "cell_type": "code",
   "execution_count": 14,
   "metadata": {},
   "outputs": [
    {
     "name": "stdout",
     "output_type": "stream",
     "text": [
      "match\n",
      "match\n",
      "match\n",
      "match\n",
      "match\n",
      "match\n",
      "match\n",
      "match\n",
      "match\n",
      "match\n",
      "match\n",
      "match\n",
      "match\n",
      "match\n",
      "match\n",
      "match\n",
      "match\n",
      "match\n",
      "match\n",
      "match\n",
      "match\n",
      "match\n",
      "match\n",
      "match\n",
      "match\n",
      "match\n",
      "match\n",
      "match\n",
      "match\n",
      "match\n",
      "match\n",
      "match\n",
      "match\n",
      "match\n",
      "match\n",
      "match\n",
      "match\n",
      "match\n",
      "match\n",
      "match\n",
      "match\n",
      "match\n",
      "match\n",
      "match\n",
      "match\n",
      "match\n",
      "match\n",
      "match\n",
      "match\n",
      "match\n",
      "match\n",
      "match\n",
      "match\n",
      "match\n",
      "match\n",
      "match\n",
      "match\n",
      "match\n",
      "match\n",
      "match\n",
      "match\n",
      "match\n",
      "match\n",
      "match\n",
      "match\n",
      "match\n",
      "match\n",
      "match\n",
      "match\n",
      "match\n",
      "match\n",
      "match\n",
      "match\n",
      "match\n",
      "match\n",
      "match\n",
      "match\n",
      "match\n",
      "match\n",
      "match\n",
      "match\n",
      "match\n",
      "match\n",
      "match\n",
      "match\n"
     ]
    }
   ],
   "source": [
    "# TEST MATCH\n",
    "# match co_dt to platform_dt\n",
    "# if match, print match\n",
    "\n",
    "def find_dt_match_for_data_assest(co_dt, da_id, df):\n",
    "    \"\"\"\n",
    "    \n",
    "    Parameters\n",
    "    ----------\n",
    "    co_dt : datetime object\n",
    "        datetime object from Code Ocean data asset name.\n",
    "    da_id : str\n",
    "        data asset id.\n",
    "    df : pandas dataframe\n",
    "        dataframe of sessions table.\n",
    "        \n",
    "    \"\"\"\n",
    "    df['match'] = df['platform_datetime'].apply(lambda x: x == co_dt)\n",
    "    match_session_id = df[df['match'] == True].id.values\n",
    "\n",
    "    if len(match_session_id) == 1:\n",
    "        match_session_id = match_session_id[0]\n",
    "        print('match')\n",
    "    else:\n",
    "        # warn\n",
    "        #print(f\"WARNING: {len(match_session_id)} matches found for {da_id} {co_dt}\")\n",
    "        match_session_id = None\n",
    "\n",
    "    match_dict = {'data_asset_id': da_id,\n",
    "                  'session_id': match_session_id}\n",
    "\n",
    "\n",
    "    return match_dict\n",
    "\n",
    "\n",
    "def get_all_matched_co_and_lims_sessions(results_json, session_df):\n",
    "    \"\"\"\n",
    "    Parameters\n",
    "    ----------\n",
    "    results_json : json\n",
    "        json response from Code Ocean search_all_data_assets.\n",
    "    session_df : pandas dataframe\n",
    "        dataframe of sessions table.\n",
    "        \n",
    "    \"\"\"\n",
    "    results = results_json['results']\n",
    "    match_list = []\n",
    "    for da in results:\n",
    "        match = False\n",
    "        name = da['name']\n",
    "        da_id = da['id']\n",
    "        da_ds = name.split('_')[-2] + \"-\" + name.split('_')[-1]\n",
    "        da_dt = datetime.strptime(da_ds, '%Y-%m-%d-%H-%M-%S')\n",
    "        #mid = name.split('_')[-3]\n",
    "\n",
    "        match_dict = find_dt_match_for_data_assest(da_dt, da_id, session_df)\n",
    "\n",
    "        if match_dict['session_id'] is not None:\n",
    "            match_dict['match'] = True\n",
    "\n",
    "        match_list.append(match_dict)\n",
    "        \n",
    "    # make df\n",
    "    matches = pd.DataFrame(match_list)\n",
    "    return matches\n",
    "\n",
    "\n",
    "df_match = get_all_matched_co_and_lims_sessions(mp, df)"
   ]
  },
  {
   "cell_type": "code",
   "execution_count": 16,
   "metadata": {},
   "outputs": [
    {
     "data": {
      "text/html": [
       "<div>\n",
       "<style scoped>\n",
       "    .dataframe tbody tr th:only-of-type {\n",
       "        vertical-align: middle;\n",
       "    }\n",
       "\n",
       "    .dataframe tbody tr th {\n",
       "        vertical-align: top;\n",
       "    }\n",
       "\n",
       "    .dataframe thead th {\n",
       "        text-align: right;\n",
       "    }\n",
       "</style>\n",
       "<table border=\"1\" class=\"dataframe\">\n",
       "  <thead>\n",
       "    <tr style=\"text-align: right;\">\n",
       "      <th></th>\n",
       "      <th>data_asset_id</th>\n",
       "      <th>session_id</th>\n",
       "      <th>match</th>\n",
       "    </tr>\n",
       "  </thead>\n",
       "  <tbody>\n",
       "    <tr>\n",
       "      <th>26</th>\n",
       "      <td>0bd7d39f-5435-4c74-9c2c-4143e5644148</td>\n",
       "      <td>1.262863e+09</td>\n",
       "      <td>True</td>\n",
       "    </tr>\n",
       "    <tr>\n",
       "      <th>27</th>\n",
       "      <td>22e690d7-2c29-43a8-ad7f-366599dfae5c</td>\n",
       "      <td>1.267183e+09</td>\n",
       "      <td>True</td>\n",
       "    </tr>\n",
       "    <tr>\n",
       "      <th>28</th>\n",
       "      <td>53904e20-3a0b-4be4-8ac2-b0936d779410</td>\n",
       "      <td>1.307508e+09</td>\n",
       "      <td>True</td>\n",
       "    </tr>\n",
       "    <tr>\n",
       "      <th>29</th>\n",
       "      <td>d71eba24-36de-4707-9041-8d1f4e15139b</td>\n",
       "      <td>1.312421e+09</td>\n",
       "      <td>True</td>\n",
       "    </tr>\n",
       "    <tr>\n",
       "      <th>30</th>\n",
       "      <td>73117348-63cb-46b6-a1a3-e51b9bd8fe46</td>\n",
       "      <td>1.311436e+09</td>\n",
       "      <td>True</td>\n",
       "    </tr>\n",
       "    <tr>\n",
       "      <th>...</th>\n",
       "      <td>...</td>\n",
       "      <td>...</td>\n",
       "      <td>...</td>\n",
       "    </tr>\n",
       "    <tr>\n",
       "      <th>396</th>\n",
       "      <td>1db9390d-5c26-4a0d-b37a-20cbf8984b08</td>\n",
       "      <td>1.287205e+09</td>\n",
       "      <td>True</td>\n",
       "    </tr>\n",
       "    <tr>\n",
       "      <th>397</th>\n",
       "      <td>0c582322-1a75-45f0-8c04-12336f91bf97</td>\n",
       "      <td>1.275235e+09</td>\n",
       "      <td>True</td>\n",
       "    </tr>\n",
       "    <tr>\n",
       "      <th>398</th>\n",
       "      <td>48f8ea2b-e9c3-4988-bf12-107cdff7ba32</td>\n",
       "      <td>1.282665e+09</td>\n",
       "      <td>True</td>\n",
       "    </tr>\n",
       "    <tr>\n",
       "      <th>399</th>\n",
       "      <td>ff24db95-8407-4bba-af0c-bf255d066947</td>\n",
       "      <td>1.287478e+09</td>\n",
       "      <td>True</td>\n",
       "    </tr>\n",
       "    <tr>\n",
       "      <th>400</th>\n",
       "      <td>e80fcfc1-e642-471b-ae59-1a69cef8fd61</td>\n",
       "      <td>1.286956e+09</td>\n",
       "      <td>True</td>\n",
       "    </tr>\n",
       "  </tbody>\n",
       "</table>\n",
       "<p>85 rows × 3 columns</p>\n",
       "</div>"
      ],
      "text/plain": [
       "                            data_asset_id    session_id match\n",
       "26   0bd7d39f-5435-4c74-9c2c-4143e5644148  1.262863e+09  True\n",
       "27   22e690d7-2c29-43a8-ad7f-366599dfae5c  1.267183e+09  True\n",
       "28   53904e20-3a0b-4be4-8ac2-b0936d779410  1.307508e+09  True\n",
       "29   d71eba24-36de-4707-9041-8d1f4e15139b  1.312421e+09  True\n",
       "30   73117348-63cb-46b6-a1a3-e51b9bd8fe46  1.311436e+09  True\n",
       "..                                    ...           ...   ...\n",
       "396  1db9390d-5c26-4a0d-b37a-20cbf8984b08  1.287205e+09  True\n",
       "397  0c582322-1a75-45f0-8c04-12336f91bf97  1.275235e+09  True\n",
       "398  48f8ea2b-e9c3-4988-bf12-107cdff7ba32  1.282665e+09  True\n",
       "399  ff24db95-8407-4bba-af0c-bf255d066947  1.287478e+09  True\n",
       "400  e80fcfc1-e642-471b-ae59-1a69cef8fd61  1.286956e+09  True\n",
       "\n",
       "[85 rows x 3 columns]"
      ]
     },
     "execution_count": 16,
     "metadata": {},
     "output_type": "execute_result"
    }
   ],
   "source": [
    "# keep only match == True\n",
    "df_match[df_match['match'] == True]"
   ]
  },
  {
   "cell_type": "code",
   "execution_count": 57,
   "metadata": {},
   "outputs": [
    {
     "data": {
      "text/plain": [
       "'2017-11-14T16:05:14'"
      ]
     },
     "execution_count": 57,
     "metadata": {},
     "output_type": "execute_result"
    }
   ],
   "source": [
    "df['date_of_acquisition'].iloc[0]"
   ]
  },
  {
   "cell_type": "code",
   "execution_count": 64,
   "metadata": {},
   "outputs": [],
   "source": [
    "# find dt in sessions table, date_of_acquisition\n",
    "# compare datetime igornore microseconds\n",
    "#dt = datetime.strptime(ds, '%Y-%m-%d-%H-%M-%S')\n",
    "df['dt_simple'] = pd.to_datetime(df['date_of_acquisition'])\n",
    "df['dt_simple'] = df['dt_simple'].dt.strftime('%Y-%m-%d-%H-%M-%S')\n",
    "\n",
    "listy = df.dt_simple"
   ]
  },
  {
   "cell_type": "code",
   "execution_count": 60,
   "metadata": {},
   "outputs": [
    {
     "data": {
      "text/plain": [
       "'2019-11-04-01-21-00'"
      ]
     },
     "execution_count": 60,
     "metadata": {},
     "output_type": "execute_result"
    }
   ],
   "source": [
    "ds"
   ]
  },
  {
   "cell_type": "code",
   "execution_count": 59,
   "metadata": {},
   "outputs": [
    {
     "data": {
      "text/html": [
       "<div>\n",
       "<style scoped>\n",
       "    .dataframe tbody tr th:only-of-type {\n",
       "        vertical-align: middle;\n",
       "    }\n",
       "\n",
       "    .dataframe tbody tr th {\n",
       "        vertical-align: top;\n",
       "    }\n",
       "\n",
       "    .dataframe thead th {\n",
       "        text-align: right;\n",
       "    }\n",
       "</style>\n",
       "<table border=\"1\" class=\"dataframe\">\n",
       "  <thead>\n",
       "    <tr style=\"text-align: right;\">\n",
       "      <th></th>\n",
       "      <th>id</th>\n",
       "      <th>name</th>\n",
       "      <th>storage_directory</th>\n",
       "      <th>workflow_state</th>\n",
       "      <th>specimen_id</th>\n",
       "      <th>isi_experiment_id</th>\n",
       "      <th>parent_session_id</th>\n",
       "      <th>vasculature_image_id</th>\n",
       "      <th>targeted_structure_id</th>\n",
       "      <th>imaging_depth_id</th>\n",
       "      <th>...</th>\n",
       "      <th>stimulus_eye_position_y</th>\n",
       "      <th>screen_height</th>\n",
       "      <th>screen_width</th>\n",
       "      <th>screen_depth</th>\n",
       "      <th>eye_track_image_id</th>\n",
       "      <th>eye_tracking_id</th>\n",
       "      <th>foraging_id</th>\n",
       "      <th>stim_delay</th>\n",
       "      <th>visual_behavior_supercontainer_id</th>\n",
       "      <th>dt_simple</th>\n",
       "    </tr>\n",
       "  </thead>\n",
       "  <tbody>\n",
       "  </tbody>\n",
       "</table>\n",
       "<p>0 rows × 30 columns</p>\n",
       "</div>"
      ],
      "text/plain": [
       "Empty DataFrame\n",
       "Columns: [id, name, storage_directory, workflow_state, specimen_id, isi_experiment_id, parent_session_id, vasculature_image_id, targeted_structure_id, imaging_depth_id, temp_upload_directory, date_of_acquisition, equipment_id, operator_id, project_id, reticle_image_id, ophys_z_stack_column_image_id, stimulus_name, stimulus_warp, stimulus_eye_position_x, stimulus_eye_position_y, screen_height, screen_width, screen_depth, eye_track_image_id, eye_tracking_id, foraging_id, stim_delay, visual_behavior_supercontainer_id, dt_simple]\n",
       "Index: []\n",
       "\n",
       "[0 rows x 30 columns]"
      ]
     },
     "execution_count": 59,
     "metadata": {},
     "output_type": "execute_result"
    }
   ],
   "source": [
    "# find ds in df_simple\n",
    "df[df.dt_simple == ds]"
   ]
  },
  {
   "cell_type": "code",
   "execution_count": 70,
   "metadata": {},
   "outputs": [
    {
     "data": {
      "text/plain": [
       "datetime.datetime(2023, 9, 27, 23, 52, 9)"
      ]
     },
     "execution_count": 70,
     "metadata": {},
     "output_type": "execute_result"
    }
   ],
   "source": [
    "# do by session\n",
    "session_folder = \"/allen/programs/mindscope/production/learning/prod0/specimen_1287205163/ophys_session_1299986341/\"\n",
    "platform_json = session_folder + \"1299986341_platform.json\"\n",
    "\n",
    "# get file creation time\n",
    "import os\n",
    "import time\n",
    "t = os.path.getctime(platform_json)\n",
    "# ignore microseconds\n",
    "dt = datetime.fromtimestamp(t).replace(microsecond=0)\n",
    "dt"
   ]
  }
 ],
 "metadata": {
  "kernelspec": {
   "display_name": "dev",
   "language": "python",
   "name": "python3"
  },
  "language_info": {
   "codemirror_mode": {
    "name": "ipython",
    "version": 3
   },
   "file_extension": ".py",
   "mimetype": "text/x-python",
   "name": "python",
   "nbconvert_exporter": "python",
   "pygments_lexer": "ipython3",
   "version": "3.8.13"
  }
 },
 "nbformat": 4,
 "nbformat_minor": 2
}
