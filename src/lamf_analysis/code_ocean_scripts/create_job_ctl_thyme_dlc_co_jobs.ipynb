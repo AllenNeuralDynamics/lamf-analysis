{
 "cells": [
  {
   "cell_type": "code",
   "execution_count": 2,
   "metadata": {},
   "outputs": [],
   "source": [
    "from pathlib import Path\n",
    "import json\n",
    "\n",
    "#  jobs\n",
    "import lamf_analysis.code_ocean_scripts.jobs as jobs\n",
    "\n",
    "import aind_session\n",
    "\n",
    "# notebook\n",
    "%load_ext autoreload\n",
    "%autoreload 2\n"
   ]
  },
  {
   "cell_type": "code",
   "execution_count": 2,
   "metadata": {},
   "outputs": [],
   "source": [
    "def thyme_sessions():\n",
    "    #bad_sessions = [\"multiplane-ophys_721291_2024-05-24_10-08-04\",\"multiplane-ophys_721291_2024-05-14_08-24-49\"]\n",
    "    bad_sessions = []\n",
    "    mouse_sessions = aind_session.get_sessions(subject_id=736963)\n",
    "    mouse_sessions = [session for session in mouse_sessions if session.id not in bad_sessions]\n",
    "    mouse_sessions = sorted(mouse_sessions)\n",
    "    \n",
    "    return mouse_sessions\n",
    "\n",
    "\n",
    "def get_asset_type_from_sessions_list(sessions, asset_type: str):\n",
    "    \"\"\"Get all assets of a certain type from a list of sessions\n",
    "\n",
    "    Parameters\n",
    "    ----------\n",
    "    sessions : list\n",
    "        List of aind_session.Session objects\n",
    "    asset_type : str\n",
    "        Asset type to filter for (e.g. processed,dlc-eye)\n",
    "        \n",
    "    Returns\n",
    "    -------\n",
    "    list\n",
    "        List of aind_session\n",
    "    \"\"\"\n",
    "    assets = []\n",
    "    for session in sessions:\n",
    "        for asset in session.data_assets:\n",
    "            \n",
    "            # bad assets don't have metadata\n",
    "            if asset.custom_metadata is None:\n",
    "                continue\n",
    "            # raw assets reliably have custom metadata.\n",
    "            if asset_type == \"raw\":\n",
    "                if asset.custom_metadata[\"data level\"] == \"raw\":\n",
    "                    assets.append(asset)\n",
    "            else:\n",
    "                if asset_type in asset.name:\n",
    "                    assets.append(asset)\n",
    "    return assets"
   ]
  },
  {
   "cell_type": "code",
   "execution_count": null,
   "metadata": {},
   "outputs": [],
   "source": [
    "import codeocean\n",
    "! pip install --upgrade aind-session"
   ]
  },
  {
   "cell_type": "code",
   "execution_count": 6,
   "metadata": {},
   "outputs": [
    {
     "data": {
      "text/plain": [
       "[[{'id': 'b5458427-f446-4308-aba4-609cfeb90acb',\n",
       "   'mount': 'multiplane-ophys_736963_2024-07-09_09-13-58'}],\n",
       " [{'id': '4e8e516a-0cbe-477f-8c19-96913e5aa425',\n",
       "   'mount': 'multiplane-ophys_736963_2024-07-10_09-02-58'}],\n",
       " [{'id': '17a7e310-bc74-4d77-8745-deeee1de9b5c',\n",
       "   'mount': 'multiplane-ophys_736963_2024-07-11_08-45-05'}],\n",
       " [{'id': 'b7ae31ca-71a6-42ea-a467-8e839212fabd',\n",
       "   'mount': 'multiplane-ophys_736963_2024-07-12_09-20-11'}],\n",
       " [{'id': '7d2bc78e-b356-453c-b2e4-007f5b5a92af',\n",
       "   'mount': 'multiplane-ophys_736963_2024-07-15_09-23-32'}],\n",
       " [{'id': 'ec3b0265-25cc-48ad-972e-ef425e877b88',\n",
       "   'mount': 'multiplane-ophys_736963_2024-07-16_09-17-44'}],\n",
       " [{'id': 'bfc7c4c8-efb7-4b67-9967-7d8596465632',\n",
       "   'mount': 'multiplane-ophys_736963_2024-07-18_08-41-14'}],\n",
       " [{'id': 'a0f52a4e-ea76-4d67-b790-5dafb06fff85',\n",
       "   'mount': 'multiplane-ophys_736963_2024-07-19_09-14-01'}],\n",
       " [{'id': '0b6188b4-c0e4-4391-b5b2-0768bd7fbec2',\n",
       "   'mount': 'multiplane-ophys_736963_2024-07-22_08-54-38'}],\n",
       " [{'id': 'd45dc793-88d1-46f9-9de2-44b12ba6d1a9',\n",
       "   'mount': 'multiplane-ophys_736963_2024-07-23_08-57-56'}],\n",
       " [{'id': '2fcadf6d-26ae-454a-bcc3-87ba5dcec4c3',\n",
       "   'mount': 'multiplane-ophys_736963_2024-07-24_08-49-57'}],\n",
       " [{'id': '8024ee33-c834-46a5-8baa-e61f34132918',\n",
       "   'mount': 'multiplane-ophys_736963_2024-07-26_09-37-45'}],\n",
       " [{'id': 'b1bfe788-dcd6-4de0-8d50-0cebcce1c017',\n",
       "   'mount': 'multiplane-ophys_736963_2024-07-29_09-00-58'}],\n",
       " [{'id': '6ecfb6fd-dc56-4224-9998-b2e4d3d53f51',\n",
       "   'mount': 'multiplane-ophys_736963_2024-07-30_09-11-03'}],\n",
       " [{'id': '24c8de07-7fd8-49a3-bed9-765be48f3025',\n",
       "   'mount': 'multiplane-ophys_736963_2024-08-01_08-59-00'}],\n",
       " [{'id': '5085308a-c0d2-4e2c-94f3-6eb80a33a37c',\n",
       "   'mount': 'multiplane-ophys_736963_2024-08-05_09-19-25'}],\n",
       " [{'id': 'c7ad3686-c50e-4a6c-9670-05bfd44e9221',\n",
       "   'mount': 'multiplane-ophys_736963_2024-08-06_08-52-03'}],\n",
       " [{'id': 'f2cf67b8-990f-4c73-a4fa-9f768c6fd1a3',\n",
       "   'mount': 'multiplane-ophys_736963_2024-08-07_09-11-10'}],\n",
       " [{'id': 'a494d5a6-b567-4876-9418-155c98ca7e25',\n",
       "   'mount': 'multiplane-ophys_736963_2024-08-09_08-58-36'}],\n",
       " [{'id': '3fc747df-a25f-4cee-97ff-b89d8bf70557',\n",
       "   'mount': 'multiplane-ophys_736963_2024-08-12_09-17-19'}],\n",
       " [{'id': 'ae65b44f-975c-4253-993d-de4fbd7b21e2',\n",
       "   'mount': 'multiplane-ophys_736963_2024-08-13_08-57-29'}],\n",
       " [{'id': '9139006a-2915-4f7b-9429-79f4e33f2630',\n",
       "   'mount': 'multiplane-ophys_736963_2024-08-23_09-13-46'}],\n",
       " [{'id': 'ac05979e-4356-4898-9f3f-290fb7186807',\n",
       "   'mount': 'multiplane-ophys_736963_2024-08-26_09-54-51'}],\n",
       " [{'id': 'a895f53b-620b-4e76-9de7-21a7bee4ba3c',\n",
       "   'mount': 'multiplane-ophys_736963_2024-08-27_08-51-49'}],\n",
       " [{'id': 'eb968555-cab4-482a-b5c6-9bfbf2ec7fe0',\n",
       "   'mount': 'multiplane-ophys_736963_2024-08-29_10-20-27'}]]"
      ]
     },
     "execution_count": 6,
     "metadata": {},
     "output_type": "execute_result"
    }
   ],
   "source": [
    "sessions = thyme_sessions()\n",
    "assets = get_asset_type_from_sessions_list(sessions, \"raw\")\n",
    "assets_dict = [[{\"id\": asset.id, \"mount\": asset.mount}] for asset in assets]\n",
    "assets_dict"
   ]
  },
  {
   "cell_type": "code",
   "execution_count": 7,
   "metadata": {},
   "outputs": [],
   "source": [
    "jobs.default_dlc_eye(json_output_path=\"dlc_eye_thyme.json\", \n",
    "                batch_assets_list=assets_dict)"
   ]
  },
  {
   "cell_type": "markdown",
   "metadata": {},
   "source": [
    "# zstack reg"
   ]
  },
  {
   "cell_type": "code",
   "execution_count": 5,
   "metadata": {},
   "outputs": [],
   "source": [
    "assets = [\n",
    "         [{'id': 'b5458427-f446-4308-aba4-609cfeb90acb',\n",
    "         'mount': 'multiplane-ophys_736963_2024-07-09_09-13-58'}]\n",
    "         ]"
   ]
  },
  {
   "cell_type": "code",
   "execution_count": 6,
   "metadata": {},
   "outputs": [],
   "source": [
    "jobs.default_cortical_zstack_registration(json_output_path=\"thyme_cortical_zstack_reg_1.json\",\n",
    "                                          batch_assets_list=assets)"
   ]
  },
  {
   "cell_type": "markdown",
   "metadata": {},
   "source": [
    "## check config"
   ]
  },
  {
   "cell_type": "code",
   "execution_count": 20,
   "metadata": {},
   "outputs": [
    {
     "name": "stdout",
     "output_type": "stream",
     "text": [
      "{'capsule_id': '4cf0be83-2245-4bb1-a55c-a78201b14bfe', 'tags': ['derived', 'eye_tracking', 'ophys-mfish'], 'process_name_suffix': 'dlc-eye', 'assets_list': [[{'id': 'b5458427-f446-4308-aba4-609cfeb90acb', 'mount': 'multiplane-ophys_736963_2024-07-09_09-13-58'}], [{'id': '4e8e516a-0cbe-477f-8c19-96913e5aa425', 'mount': 'multiplane-ophys_736963_2024-07-10_09-02-58'}], [{'id': '17a7e310-bc74-4d77-8745-deeee1de9b5c', 'mount': 'multiplane-ophys_736963_2024-07-11_08-45-05'}], [{'id': 'b7ae31ca-71a6-42ea-a467-8e839212fabd', 'mount': 'multiplane-ophys_736963_2024-07-12_09-20-11'}], [{'id': '7d2bc78e-b356-453c-b2e4-007f5b5a92af', 'mount': 'multiplane-ophys_736963_2024-07-15_09-23-32'}], [{'id': 'ec3b0265-25cc-48ad-972e-ef425e877b88', 'mount': 'multiplane-ophys_736963_2024-07-16_09-17-44'}], [{'id': 'bfc7c4c8-efb7-4b67-9967-7d8596465632', 'mount': 'multiplane-ophys_736963_2024-07-18_08-41-14'}], [{'id': 'a0f52a4e-ea76-4d67-b790-5dafb06fff85', 'mount': 'multiplane-ophys_736963_2024-07-19_09-14-01'}], [{'id': '0b6188b4-c0e4-4391-b5b2-0768bd7fbec2', 'mount': 'multiplane-ophys_736963_2024-07-22_08-54-38'}], [{'id': 'd45dc793-88d1-46f9-9de2-44b12ba6d1a9', 'mount': 'multiplane-ophys_736963_2024-07-23_08-57-56'}], [{'id': '2fcadf6d-26ae-454a-bcc3-87ba5dcec4c3', 'mount': 'multiplane-ophys_736963_2024-07-24_08-49-57'}], [{'id': '8024ee33-c834-46a5-8baa-e61f34132918', 'mount': 'multiplane-ophys_736963_2024-07-26_09-37-45'}], [{'id': 'b1bfe788-dcd6-4de0-8d50-0cebcce1c017', 'mount': 'multiplane-ophys_736963_2024-07-29_09-00-58'}], [{'id': '6ecfb6fd-dc56-4224-9998-b2e4d3d53f51', 'mount': 'multiplane-ophys_736963_2024-07-30_09-11-03'}], [{'id': '24c8de07-7fd8-49a3-bed9-765be48f3025', 'mount': 'multiplane-ophys_736963_2024-08-01_08-59-00'}], [{'id': '5085308a-c0d2-4e2c-94f3-6eb80a33a37c', 'mount': 'multiplane-ophys_736963_2024-08-05_09-19-25'}], [{'id': 'c7ad3686-c50e-4a6c-9670-05bfd44e9221', 'mount': 'multiplane-ophys_736963_2024-08-06_08-52-03'}], [{'id': 'f2cf67b8-990f-4c73-a4fa-9f768c6fd1a3', 'mount': 'multiplane-ophys_736963_2024-08-07_09-11-10'}], [{'id': 'a494d5a6-b567-4876-9418-155c98ca7e25', 'mount': 'multiplane-ophys_736963_2024-08-09_08-58-36'}], [{'id': '3fc747df-a25f-4cee-97ff-b89d8bf70557', 'mount': 'multiplane-ophys_736963_2024-08-12_09-17-19'}], [{'id': 'ae65b44f-975c-4253-993d-de4fbd7b21e2', 'mount': 'multiplane-ophys_736963_2024-08-13_08-57-29'}], [{'id': '9139006a-2915-4f7b-9429-79f4e33f2630', 'mount': 'multiplane-ophys_736963_2024-08-23_09-13-46'}], [{'id': 'ac05979e-4356-4898-9f3f-290fb7186807', 'mount': 'multiplane-ophys_736963_2024-08-26_09-54-51'}], [{'id': 'a895f53b-620b-4e76-9de7-21a7bee4ba3c', 'mount': 'multiplane-ophys_736963_2024-08-27_08-51-49'}], [{'id': 'eb968555-cab4-482a-b5c6-9bfbf2ec7fe0', 'mount': 'multiplane-ophys_736963_2024-08-29_10-20-27'}]]}\n"
     ]
    },
    {
     "data": {
      "text/plain": [
       "[PipelineMonitorSettings(alert_url=None, computation_polling_interval=180.0, computation_timeout=None, data_asset_ready_polling_interval=10.0, data_asset_ready_timeout=None, run_params=RunParams(capsule_id='4cf0be83-2245-4bb1-a55c-a78201b14bfe', pipeline_id=None, version=None, resume_run_id=None, data_assets=[DataAssetsRunParam(id='b5458427-f446-4308-aba4-609cfeb90acb', mount='multiplane-ophys_736963_2024-07-09_09-13-58')], parameters=None, named_parameters=[], processes=None), capture_settings=CaptureSettings(name=None, tags=['derived', 'eye_tracking', 'ophys-mfish'], mount=None, description=None, source=None, target=None, custom_metadata=None, data_asset_ids=None, results_info=None, data_description_file_name='data_description.json', process_name_suffix='dlc-eye', process_name_suffix_tz='UTC', permissions=Permissions(users=None, groups=None, everyone=<EveryoneRole.Viewer: 'viewer'>, share_assets=None))),\n",
       " PipelineMonitorSettings(alert_url=None, computation_polling_interval=180.0, computation_timeout=None, data_asset_ready_polling_interval=10.0, data_asset_ready_timeout=None, run_params=RunParams(capsule_id='4cf0be83-2245-4bb1-a55c-a78201b14bfe', pipeline_id=None, version=None, resume_run_id=None, data_assets=[DataAssetsRunParam(id='4e8e516a-0cbe-477f-8c19-96913e5aa425', mount='multiplane-ophys_736963_2024-07-10_09-02-58')], parameters=None, named_parameters=[], processes=None), capture_settings=CaptureSettings(name=None, tags=['derived', 'eye_tracking', 'ophys-mfish'], mount=None, description=None, source=None, target=None, custom_metadata=None, data_asset_ids=None, results_info=None, data_description_file_name='data_description.json', process_name_suffix='dlc-eye', process_name_suffix_tz='UTC', permissions=Permissions(users=None, groups=None, everyone=<EveryoneRole.Viewer: 'viewer'>, share_assets=None))),\n",
       " PipelineMonitorSettings(alert_url=None, computation_polling_interval=180.0, computation_timeout=None, data_asset_ready_polling_interval=10.0, data_asset_ready_timeout=None, run_params=RunParams(capsule_id='4cf0be83-2245-4bb1-a55c-a78201b14bfe', pipeline_id=None, version=None, resume_run_id=None, data_assets=[DataAssetsRunParam(id='17a7e310-bc74-4d77-8745-deeee1de9b5c', mount='multiplane-ophys_736963_2024-07-11_08-45-05')], parameters=None, named_parameters=[], processes=None), capture_settings=CaptureSettings(name=None, tags=['derived', 'eye_tracking', 'ophys-mfish'], mount=None, description=None, source=None, target=None, custom_metadata=None, data_asset_ids=None, results_info=None, data_description_file_name='data_description.json', process_name_suffix='dlc-eye', process_name_suffix_tz='UTC', permissions=Permissions(users=None, groups=None, everyone=<EveryoneRole.Viewer: 'viewer'>, share_assets=None))),\n",
       " PipelineMonitorSettings(alert_url=None, computation_polling_interval=180.0, computation_timeout=None, data_asset_ready_polling_interval=10.0, data_asset_ready_timeout=None, run_params=RunParams(capsule_id='4cf0be83-2245-4bb1-a55c-a78201b14bfe', pipeline_id=None, version=None, resume_run_id=None, data_assets=[DataAssetsRunParam(id='b7ae31ca-71a6-42ea-a467-8e839212fabd', mount='multiplane-ophys_736963_2024-07-12_09-20-11')], parameters=None, named_parameters=[], processes=None), capture_settings=CaptureSettings(name=None, tags=['derived', 'eye_tracking', 'ophys-mfish'], mount=None, description=None, source=None, target=None, custom_metadata=None, data_asset_ids=None, results_info=None, data_description_file_name='data_description.json', process_name_suffix='dlc-eye', process_name_suffix_tz='UTC', permissions=Permissions(users=None, groups=None, everyone=<EveryoneRole.Viewer: 'viewer'>, share_assets=None))),\n",
       " PipelineMonitorSettings(alert_url=None, computation_polling_interval=180.0, computation_timeout=None, data_asset_ready_polling_interval=10.0, data_asset_ready_timeout=None, run_params=RunParams(capsule_id='4cf0be83-2245-4bb1-a55c-a78201b14bfe', pipeline_id=None, version=None, resume_run_id=None, data_assets=[DataAssetsRunParam(id='7d2bc78e-b356-453c-b2e4-007f5b5a92af', mount='multiplane-ophys_736963_2024-07-15_09-23-32')], parameters=None, named_parameters=[], processes=None), capture_settings=CaptureSettings(name=None, tags=['derived', 'eye_tracking', 'ophys-mfish'], mount=None, description=None, source=None, target=None, custom_metadata=None, data_asset_ids=None, results_info=None, data_description_file_name='data_description.json', process_name_suffix='dlc-eye', process_name_suffix_tz='UTC', permissions=Permissions(users=None, groups=None, everyone=<EveryoneRole.Viewer: 'viewer'>, share_assets=None))),\n",
       " PipelineMonitorSettings(alert_url=None, computation_polling_interval=180.0, computation_timeout=None, data_asset_ready_polling_interval=10.0, data_asset_ready_timeout=None, run_params=RunParams(capsule_id='4cf0be83-2245-4bb1-a55c-a78201b14bfe', pipeline_id=None, version=None, resume_run_id=None, data_assets=[DataAssetsRunParam(id='ec3b0265-25cc-48ad-972e-ef425e877b88', mount='multiplane-ophys_736963_2024-07-16_09-17-44')], parameters=None, named_parameters=[], processes=None), capture_settings=CaptureSettings(name=None, tags=['derived', 'eye_tracking', 'ophys-mfish'], mount=None, description=None, source=None, target=None, custom_metadata=None, data_asset_ids=None, results_info=None, data_description_file_name='data_description.json', process_name_suffix='dlc-eye', process_name_suffix_tz='UTC', permissions=Permissions(users=None, groups=None, everyone=<EveryoneRole.Viewer: 'viewer'>, share_assets=None))),\n",
       " PipelineMonitorSettings(alert_url=None, computation_polling_interval=180.0, computation_timeout=None, data_asset_ready_polling_interval=10.0, data_asset_ready_timeout=None, run_params=RunParams(capsule_id='4cf0be83-2245-4bb1-a55c-a78201b14bfe', pipeline_id=None, version=None, resume_run_id=None, data_assets=[DataAssetsRunParam(id='bfc7c4c8-efb7-4b67-9967-7d8596465632', mount='multiplane-ophys_736963_2024-07-18_08-41-14')], parameters=None, named_parameters=[], processes=None), capture_settings=CaptureSettings(name=None, tags=['derived', 'eye_tracking', 'ophys-mfish'], mount=None, description=None, source=None, target=None, custom_metadata=None, data_asset_ids=None, results_info=None, data_description_file_name='data_description.json', process_name_suffix='dlc-eye', process_name_suffix_tz='UTC', permissions=Permissions(users=None, groups=None, everyone=<EveryoneRole.Viewer: 'viewer'>, share_assets=None))),\n",
       " PipelineMonitorSettings(alert_url=None, computation_polling_interval=180.0, computation_timeout=None, data_asset_ready_polling_interval=10.0, data_asset_ready_timeout=None, run_params=RunParams(capsule_id='4cf0be83-2245-4bb1-a55c-a78201b14bfe', pipeline_id=None, version=None, resume_run_id=None, data_assets=[DataAssetsRunParam(id='a0f52a4e-ea76-4d67-b790-5dafb06fff85', mount='multiplane-ophys_736963_2024-07-19_09-14-01')], parameters=None, named_parameters=[], processes=None), capture_settings=CaptureSettings(name=None, tags=['derived', 'eye_tracking', 'ophys-mfish'], mount=None, description=None, source=None, target=None, custom_metadata=None, data_asset_ids=None, results_info=None, data_description_file_name='data_description.json', process_name_suffix='dlc-eye', process_name_suffix_tz='UTC', permissions=Permissions(users=None, groups=None, everyone=<EveryoneRole.Viewer: 'viewer'>, share_assets=None))),\n",
       " PipelineMonitorSettings(alert_url=None, computation_polling_interval=180.0, computation_timeout=None, data_asset_ready_polling_interval=10.0, data_asset_ready_timeout=None, run_params=RunParams(capsule_id='4cf0be83-2245-4bb1-a55c-a78201b14bfe', pipeline_id=None, version=None, resume_run_id=None, data_assets=[DataAssetsRunParam(id='0b6188b4-c0e4-4391-b5b2-0768bd7fbec2', mount='multiplane-ophys_736963_2024-07-22_08-54-38')], parameters=None, named_parameters=[], processes=None), capture_settings=CaptureSettings(name=None, tags=['derived', 'eye_tracking', 'ophys-mfish'], mount=None, description=None, source=None, target=None, custom_metadata=None, data_asset_ids=None, results_info=None, data_description_file_name='data_description.json', process_name_suffix='dlc-eye', process_name_suffix_tz='UTC', permissions=Permissions(users=None, groups=None, everyone=<EveryoneRole.Viewer: 'viewer'>, share_assets=None))),\n",
       " PipelineMonitorSettings(alert_url=None, computation_polling_interval=180.0, computation_timeout=None, data_asset_ready_polling_interval=10.0, data_asset_ready_timeout=None, run_params=RunParams(capsule_id='4cf0be83-2245-4bb1-a55c-a78201b14bfe', pipeline_id=None, version=None, resume_run_id=None, data_assets=[DataAssetsRunParam(id='d45dc793-88d1-46f9-9de2-44b12ba6d1a9', mount='multiplane-ophys_736963_2024-07-23_08-57-56')], parameters=None, named_parameters=[], processes=None), capture_settings=CaptureSettings(name=None, tags=['derived', 'eye_tracking', 'ophys-mfish'], mount=None, description=None, source=None, target=None, custom_metadata=None, data_asset_ids=None, results_info=None, data_description_file_name='data_description.json', process_name_suffix='dlc-eye', process_name_suffix_tz='UTC', permissions=Permissions(users=None, groups=None, everyone=<EveryoneRole.Viewer: 'viewer'>, share_assets=None))),\n",
       " PipelineMonitorSettings(alert_url=None, computation_polling_interval=180.0, computation_timeout=None, data_asset_ready_polling_interval=10.0, data_asset_ready_timeout=None, run_params=RunParams(capsule_id='4cf0be83-2245-4bb1-a55c-a78201b14bfe', pipeline_id=None, version=None, resume_run_id=None, data_assets=[DataAssetsRunParam(id='2fcadf6d-26ae-454a-bcc3-87ba5dcec4c3', mount='multiplane-ophys_736963_2024-07-24_08-49-57')], parameters=None, named_parameters=[], processes=None), capture_settings=CaptureSettings(name=None, tags=['derived', 'eye_tracking', 'ophys-mfish'], mount=None, description=None, source=None, target=None, custom_metadata=None, data_asset_ids=None, results_info=None, data_description_file_name='data_description.json', process_name_suffix='dlc-eye', process_name_suffix_tz='UTC', permissions=Permissions(users=None, groups=None, everyone=<EveryoneRole.Viewer: 'viewer'>, share_assets=None))),\n",
       " PipelineMonitorSettings(alert_url=None, computation_polling_interval=180.0, computation_timeout=None, data_asset_ready_polling_interval=10.0, data_asset_ready_timeout=None, run_params=RunParams(capsule_id='4cf0be83-2245-4bb1-a55c-a78201b14bfe', pipeline_id=None, version=None, resume_run_id=None, data_assets=[DataAssetsRunParam(id='8024ee33-c834-46a5-8baa-e61f34132918', mount='multiplane-ophys_736963_2024-07-26_09-37-45')], parameters=None, named_parameters=[], processes=None), capture_settings=CaptureSettings(name=None, tags=['derived', 'eye_tracking', 'ophys-mfish'], mount=None, description=None, source=None, target=None, custom_metadata=None, data_asset_ids=None, results_info=None, data_description_file_name='data_description.json', process_name_suffix='dlc-eye', process_name_suffix_tz='UTC', permissions=Permissions(users=None, groups=None, everyone=<EveryoneRole.Viewer: 'viewer'>, share_assets=None))),\n",
       " PipelineMonitorSettings(alert_url=None, computation_polling_interval=180.0, computation_timeout=None, data_asset_ready_polling_interval=10.0, data_asset_ready_timeout=None, run_params=RunParams(capsule_id='4cf0be83-2245-4bb1-a55c-a78201b14bfe', pipeline_id=None, version=None, resume_run_id=None, data_assets=[DataAssetsRunParam(id='b1bfe788-dcd6-4de0-8d50-0cebcce1c017', mount='multiplane-ophys_736963_2024-07-29_09-00-58')], parameters=None, named_parameters=[], processes=None), capture_settings=CaptureSettings(name=None, tags=['derived', 'eye_tracking', 'ophys-mfish'], mount=None, description=None, source=None, target=None, custom_metadata=None, data_asset_ids=None, results_info=None, data_description_file_name='data_description.json', process_name_suffix='dlc-eye', process_name_suffix_tz='UTC', permissions=Permissions(users=None, groups=None, everyone=<EveryoneRole.Viewer: 'viewer'>, share_assets=None))),\n",
       " PipelineMonitorSettings(alert_url=None, computation_polling_interval=180.0, computation_timeout=None, data_asset_ready_polling_interval=10.0, data_asset_ready_timeout=None, run_params=RunParams(capsule_id='4cf0be83-2245-4bb1-a55c-a78201b14bfe', pipeline_id=None, version=None, resume_run_id=None, data_assets=[DataAssetsRunParam(id='6ecfb6fd-dc56-4224-9998-b2e4d3d53f51', mount='multiplane-ophys_736963_2024-07-30_09-11-03')], parameters=None, named_parameters=[], processes=None), capture_settings=CaptureSettings(name=None, tags=['derived', 'eye_tracking', 'ophys-mfish'], mount=None, description=None, source=None, target=None, custom_metadata=None, data_asset_ids=None, results_info=None, data_description_file_name='data_description.json', process_name_suffix='dlc-eye', process_name_suffix_tz='UTC', permissions=Permissions(users=None, groups=None, everyone=<EveryoneRole.Viewer: 'viewer'>, share_assets=None))),\n",
       " PipelineMonitorSettings(alert_url=None, computation_polling_interval=180.0, computation_timeout=None, data_asset_ready_polling_interval=10.0, data_asset_ready_timeout=None, run_params=RunParams(capsule_id='4cf0be83-2245-4bb1-a55c-a78201b14bfe', pipeline_id=None, version=None, resume_run_id=None, data_assets=[DataAssetsRunParam(id='24c8de07-7fd8-49a3-bed9-765be48f3025', mount='multiplane-ophys_736963_2024-08-01_08-59-00')], parameters=None, named_parameters=[], processes=None), capture_settings=CaptureSettings(name=None, tags=['derived', 'eye_tracking', 'ophys-mfish'], mount=None, description=None, source=None, target=None, custom_metadata=None, data_asset_ids=None, results_info=None, data_description_file_name='data_description.json', process_name_suffix='dlc-eye', process_name_suffix_tz='UTC', permissions=Permissions(users=None, groups=None, everyone=<EveryoneRole.Viewer: 'viewer'>, share_assets=None))),\n",
       " PipelineMonitorSettings(alert_url=None, computation_polling_interval=180.0, computation_timeout=None, data_asset_ready_polling_interval=10.0, data_asset_ready_timeout=None, run_params=RunParams(capsule_id='4cf0be83-2245-4bb1-a55c-a78201b14bfe', pipeline_id=None, version=None, resume_run_id=None, data_assets=[DataAssetsRunParam(id='5085308a-c0d2-4e2c-94f3-6eb80a33a37c', mount='multiplane-ophys_736963_2024-08-05_09-19-25')], parameters=None, named_parameters=[], processes=None), capture_settings=CaptureSettings(name=None, tags=['derived', 'eye_tracking', 'ophys-mfish'], mount=None, description=None, source=None, target=None, custom_metadata=None, data_asset_ids=None, results_info=None, data_description_file_name='data_description.json', process_name_suffix='dlc-eye', process_name_suffix_tz='UTC', permissions=Permissions(users=None, groups=None, everyone=<EveryoneRole.Viewer: 'viewer'>, share_assets=None))),\n",
       " PipelineMonitorSettings(alert_url=None, computation_polling_interval=180.0, computation_timeout=None, data_asset_ready_polling_interval=10.0, data_asset_ready_timeout=None, run_params=RunParams(capsule_id='4cf0be83-2245-4bb1-a55c-a78201b14bfe', pipeline_id=None, version=None, resume_run_id=None, data_assets=[DataAssetsRunParam(id='c7ad3686-c50e-4a6c-9670-05bfd44e9221', mount='multiplane-ophys_736963_2024-08-06_08-52-03')], parameters=None, named_parameters=[], processes=None), capture_settings=CaptureSettings(name=None, tags=['derived', 'eye_tracking', 'ophys-mfish'], mount=None, description=None, source=None, target=None, custom_metadata=None, data_asset_ids=None, results_info=None, data_description_file_name='data_description.json', process_name_suffix='dlc-eye', process_name_suffix_tz='UTC', permissions=Permissions(users=None, groups=None, everyone=<EveryoneRole.Viewer: 'viewer'>, share_assets=None))),\n",
       " PipelineMonitorSettings(alert_url=None, computation_polling_interval=180.0, computation_timeout=None, data_asset_ready_polling_interval=10.0, data_asset_ready_timeout=None, run_params=RunParams(capsule_id='4cf0be83-2245-4bb1-a55c-a78201b14bfe', pipeline_id=None, version=None, resume_run_id=None, data_assets=[DataAssetsRunParam(id='f2cf67b8-990f-4c73-a4fa-9f768c6fd1a3', mount='multiplane-ophys_736963_2024-08-07_09-11-10')], parameters=None, named_parameters=[], processes=None), capture_settings=CaptureSettings(name=None, tags=['derived', 'eye_tracking', 'ophys-mfish'], mount=None, description=None, source=None, target=None, custom_metadata=None, data_asset_ids=None, results_info=None, data_description_file_name='data_description.json', process_name_suffix='dlc-eye', process_name_suffix_tz='UTC', permissions=Permissions(users=None, groups=None, everyone=<EveryoneRole.Viewer: 'viewer'>, share_assets=None))),\n",
       " PipelineMonitorSettings(alert_url=None, computation_polling_interval=180.0, computation_timeout=None, data_asset_ready_polling_interval=10.0, data_asset_ready_timeout=None, run_params=RunParams(capsule_id='4cf0be83-2245-4bb1-a55c-a78201b14bfe', pipeline_id=None, version=None, resume_run_id=None, data_assets=[DataAssetsRunParam(id='a494d5a6-b567-4876-9418-155c98ca7e25', mount='multiplane-ophys_736963_2024-08-09_08-58-36')], parameters=None, named_parameters=[], processes=None), capture_settings=CaptureSettings(name=None, tags=['derived', 'eye_tracking', 'ophys-mfish'], mount=None, description=None, source=None, target=None, custom_metadata=None, data_asset_ids=None, results_info=None, data_description_file_name='data_description.json', process_name_suffix='dlc-eye', process_name_suffix_tz='UTC', permissions=Permissions(users=None, groups=None, everyone=<EveryoneRole.Viewer: 'viewer'>, share_assets=None))),\n",
       " PipelineMonitorSettings(alert_url=None, computation_polling_interval=180.0, computation_timeout=None, data_asset_ready_polling_interval=10.0, data_asset_ready_timeout=None, run_params=RunParams(capsule_id='4cf0be83-2245-4bb1-a55c-a78201b14bfe', pipeline_id=None, version=None, resume_run_id=None, data_assets=[DataAssetsRunParam(id='3fc747df-a25f-4cee-97ff-b89d8bf70557', mount='multiplane-ophys_736963_2024-08-12_09-17-19')], parameters=None, named_parameters=[], processes=None), capture_settings=CaptureSettings(name=None, tags=['derived', 'eye_tracking', 'ophys-mfish'], mount=None, description=None, source=None, target=None, custom_metadata=None, data_asset_ids=None, results_info=None, data_description_file_name='data_description.json', process_name_suffix='dlc-eye', process_name_suffix_tz='UTC', permissions=Permissions(users=None, groups=None, everyone=<EveryoneRole.Viewer: 'viewer'>, share_assets=None))),\n",
       " PipelineMonitorSettings(alert_url=None, computation_polling_interval=180.0, computation_timeout=None, data_asset_ready_polling_interval=10.0, data_asset_ready_timeout=None, run_params=RunParams(capsule_id='4cf0be83-2245-4bb1-a55c-a78201b14bfe', pipeline_id=None, version=None, resume_run_id=None, data_assets=[DataAssetsRunParam(id='ae65b44f-975c-4253-993d-de4fbd7b21e2', mount='multiplane-ophys_736963_2024-08-13_08-57-29')], parameters=None, named_parameters=[], processes=None), capture_settings=CaptureSettings(name=None, tags=['derived', 'eye_tracking', 'ophys-mfish'], mount=None, description=None, source=None, target=None, custom_metadata=None, data_asset_ids=None, results_info=None, data_description_file_name='data_description.json', process_name_suffix='dlc-eye', process_name_suffix_tz='UTC', permissions=Permissions(users=None, groups=None, everyone=<EveryoneRole.Viewer: 'viewer'>, share_assets=None))),\n",
       " PipelineMonitorSettings(alert_url=None, computation_polling_interval=180.0, computation_timeout=None, data_asset_ready_polling_interval=10.0, data_asset_ready_timeout=None, run_params=RunParams(capsule_id='4cf0be83-2245-4bb1-a55c-a78201b14bfe', pipeline_id=None, version=None, resume_run_id=None, data_assets=[DataAssetsRunParam(id='9139006a-2915-4f7b-9429-79f4e33f2630', mount='multiplane-ophys_736963_2024-08-23_09-13-46')], parameters=None, named_parameters=[], processes=None), capture_settings=CaptureSettings(name=None, tags=['derived', 'eye_tracking', 'ophys-mfish'], mount=None, description=None, source=None, target=None, custom_metadata=None, data_asset_ids=None, results_info=None, data_description_file_name='data_description.json', process_name_suffix='dlc-eye', process_name_suffix_tz='UTC', permissions=Permissions(users=None, groups=None, everyone=<EveryoneRole.Viewer: 'viewer'>, share_assets=None))),\n",
       " PipelineMonitorSettings(alert_url=None, computation_polling_interval=180.0, computation_timeout=None, data_asset_ready_polling_interval=10.0, data_asset_ready_timeout=None, run_params=RunParams(capsule_id='4cf0be83-2245-4bb1-a55c-a78201b14bfe', pipeline_id=None, version=None, resume_run_id=None, data_assets=[DataAssetsRunParam(id='ac05979e-4356-4898-9f3f-290fb7186807', mount='multiplane-ophys_736963_2024-08-26_09-54-51')], parameters=None, named_parameters=[], processes=None), capture_settings=CaptureSettings(name=None, tags=['derived', 'eye_tracking', 'ophys-mfish'], mount=None, description=None, source=None, target=None, custom_metadata=None, data_asset_ids=None, results_info=None, data_description_file_name='data_description.json', process_name_suffix='dlc-eye', process_name_suffix_tz='UTC', permissions=Permissions(users=None, groups=None, everyone=<EveryoneRole.Viewer: 'viewer'>, share_assets=None))),\n",
       " PipelineMonitorSettings(alert_url=None, computation_polling_interval=180.0, computation_timeout=None, data_asset_ready_polling_interval=10.0, data_asset_ready_timeout=None, run_params=RunParams(capsule_id='4cf0be83-2245-4bb1-a55c-a78201b14bfe', pipeline_id=None, version=None, resume_run_id=None, data_assets=[DataAssetsRunParam(id='a895f53b-620b-4e76-9de7-21a7bee4ba3c', mount='multiplane-ophys_736963_2024-08-27_08-51-49')], parameters=None, named_parameters=[], processes=None), capture_settings=CaptureSettings(name=None, tags=['derived', 'eye_tracking', 'ophys-mfish'], mount=None, description=None, source=None, target=None, custom_metadata=None, data_asset_ids=None, results_info=None, data_description_file_name='data_description.json', process_name_suffix='dlc-eye', process_name_suffix_tz='UTC', permissions=Permissions(users=None, groups=None, everyone=<EveryoneRole.Viewer: 'viewer'>, share_assets=None))),\n",
       " PipelineMonitorSettings(alert_url=None, computation_polling_interval=180.0, computation_timeout=None, data_asset_ready_polling_interval=10.0, data_asset_ready_timeout=None, run_params=RunParams(capsule_id='4cf0be83-2245-4bb1-a55c-a78201b14bfe', pipeline_id=None, version=None, resume_run_id=None, data_assets=[DataAssetsRunParam(id='eb968555-cab4-482a-b5c6-9bfbf2ec7fe0', mount='multiplane-ophys_736963_2024-08-29_10-20-27')], parameters=None, named_parameters=[], processes=None), capture_settings=CaptureSettings(name=None, tags=['derived', 'eye_tracking', 'ophys-mfish'], mount=None, description=None, source=None, target=None, custom_metadata=None, data_asset_ids=None, results_info=None, data_description_file_name='data_description.json', process_name_suffix='dlc-eye', process_name_suffix_tz='UTC', permissions=Permissions(users=None, groups=None, everyone=<EveryoneRole.Viewer: 'viewer'>, share_assets=None)))]"
      ]
     },
     "execution_count": 20,
     "metadata": {},
     "output_type": "execute_result"
    }
   ],
   "source": [
    "from aind_codeocean_pipeline_monitor.job import PipelineMonitorJob\n",
    "from aind_codeocean_pipeline_monitor.models import (\n",
    "    CaptureSettings,\n",
    "    PipelineMonitorSettings,\n",
    ")\n",
    "from codeocean.capsule import Capsules\n",
    "from codeocean.data_asset import DataAssets\n",
    "from codeocean.computation import Computations, DataAssetsRunParam, RunParams, NamedRunParam\n",
    "from codeocean import CodeOcean\n",
    "import argparse\n",
    "import logging\n",
    "import time\n",
    "import json\n",
    "import os\n",
    "import sys\n",
    "from urllib3.util import Retry\n",
    "from requests.adapters import HTTPAdapter\n",
    "import multiprocessing\n",
    "from multiprocessing import Pool\n",
    "from typing import List\n",
    "\n",
    "def load_json_config_dlc(config_path):\n",
    "    \"\"\"Load JSON configuration from a file\"\"\"\n",
    "    try:\n",
    "        with open(config_path, 'r') as f:\n",
    "            settings = json.load(f)\n",
    "            print(settings)\n",
    "            # Create a list of settings from the config\n",
    "            settings_list = []\n",
    "\n",
    "            for asset in settings['assets_list']:\n",
    "                batch_settings = PipelineMonitorSettings.model_validate(\n",
    "                    {\n",
    "                        \"run_params\": {\n",
    "                        \"capsule_id\": settings['capsule_id'],\n",
    "                        \"data_assets\": [\n",
    "                            DataAssetsRunParam(\n",
    "                                id=asset[0]['id'],\n",
    "                                mount=asset[0]['mount']\n",
    "                            )\n",
    "                        ],\n",
    "                        # \"named_parameters\": [\n",
    "                        #     NamedRunParam(param_name=key, value=value)\n",
    "                        #     for key, value in setting['named_parameters'].items()\n",
    "                        # ]\n",
    "                        \"named_parameters\": []\n",
    "                    },\n",
    "                    \"capture_settings\": CaptureSettings(\n",
    "                        tags=settings['tags'],\n",
    "                        process_name_suffix=settings['process_name_suffix']\n",
    "                    )\n",
    "                }\n",
    "            )\n",
    "                settings_list.append(batch_settings)\n",
    "        \n",
    "    except FileNotFoundError:\n",
    "        logging.error(f\"Config file not found: {config_path}\")\n",
    "        sys.exit(1)\n",
    "    except json.JSONDecodeError as e:\n",
    "        logging.error(f\"Invalid JSON in config file: {e}\")\n",
    "        sys.exit(1)\n",
    "    except ValueError as e:\n",
    "        logging.error(f\"Invalid configuration: {e}\")\n",
    "        sys.exit(1)\n",
    "\n",
    "    return settings_list \n",
    "\n",
    "settings_list = load_json_config_dlc(\"/home/matt.davis/code/lamf-analysis/src/lamf_analysis/code_ocean_scripts/dlc_eye_thyme.json\")\n",
    "settings_list\n"
   ]
  },
  {
   "cell_type": "code",
   "execution_count": 21,
   "metadata": {},
   "outputs": [],
   "source": [
    "def setup_codeocean_client():\n",
    "    \"\"\"Initialize and configure CodeOcean client with retry logic\"\"\"\n",
    "    domain = os.getenv(\"CODEOCEAN_DOMAIN\")\n",
    "    token = os.getenv(\"CODEOCEAN_TOKEN\")\n",
    "\n",
    "    if not domain or not token:\n",
    "        raise ValueError(\"CODEOCEAN_DOMAIN and CODEOCEAN_TOKEN environment variables must be set\")\n",
    "\n",
    "    client = CodeOcean(domain=domain, token=token)\n",
    "\n",
    "    # Configure retry logic\n",
    "    retry = Retry(\n",
    "        total=5,\n",
    "        backoff_factor=1,\n",
    "        status_forcelist=[429, 500, 502, 503, 504],\n",
    "    )\n",
    "    adapter = HTTPAdapter(max_retries=retry)\n",
    "    client.session.mount(domain, adapter)\n",
    "\n",
    "    # Initialize client components\n",
    "    client.capsules = Capsules(client.session)\n",
    "    client.computations = Computations(client.session)\n",
    "    client.data_assets = DataAssets(client.session)\n",
    "\n",
    "    return client\n",
    "\n",
    "client = setup_codeocean_client()"
   ]
  },
  {
   "cell_type": "code",
   "execution_count": 22,
   "metadata": {},
   "outputs": [],
   "source": [
    "\n",
    "job = PipelineMonitorJob(job_settings=settings_list[0], client=client)\n",
    "job.run_job()"
   ]
  }
 ],
 "metadata": {
  "kernelspec": {
   "display_name": "dev9",
   "language": "python",
   "name": "python3"
  },
  "language_info": {
   "codemirror_mode": {
    "name": "ipython",
    "version": 3
   },
   "file_extension": ".py",
   "mimetype": "text/x-python",
   "name": "python",
   "nbconvert_exporter": "python",
   "pygments_lexer": "ipython3",
   "version": "3.9.19"
  }
 },
 "nbformat": 4,
 "nbformat_minor": 2
}
