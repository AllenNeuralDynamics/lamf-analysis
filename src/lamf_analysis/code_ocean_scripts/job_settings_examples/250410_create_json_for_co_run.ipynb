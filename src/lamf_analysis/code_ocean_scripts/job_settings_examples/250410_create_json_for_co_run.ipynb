{
 "cells": [
  {
   "cell_type": "markdown",
   "metadata": {},
   "source": [
    "# Purpose:\n",
    "- Creating job setting json files\n",
    "- To be used in a local workstation, in an environment with aind_codeocean_pipeline_monitor and codeocean (to run the job)"
   ]
  },
  {
   "cell_type": "code",
   "execution_count": 6,
   "metadata": {},
   "outputs": [],
   "source": [
    "import json\n",
    "from pathlib import Path\n",
    "from codeocean.computation import NamedRunParam"
   ]
  },
  {
   "cell_type": "code",
   "execution_count": 2,
   "metadata": {},
   "outputs": [
    {
     "data": {
      "text/plain": [
       "{'CTL conditioned mean responses': 'a539f742-945c-425c-84c4-15a510938c52'}"
      ]
     },
     "execution_count": 2,
     "metadata": {},
     "output_type": "execute_result"
    }
   ],
   "source": [
    "# lookup table for capsules (reproducible_runnable)\n",
    "{\n",
    "    'CTL conditioned mean responses': 'a539f742-945c-425c-84c4-15a510938c52'\n",
    "}"
   ]
  },
  {
   "cell_type": "code",
   "execution_count": 11,
   "metadata": {},
   "outputs": [],
   "source": [
    "config = {}\n",
    "config['alert_url'] = \"https://teams.microsoft.com/l/channel/19%3AR1uLgR4cTxuWfM8sPbNx3qxW2CxHB-YeqaERiqHuDzc1%40thread.tacv2/CO%20Job%20Alerts?groupId=29b582ac-fcbd-4ef6-a57a-000fa13dfa45&tenantId=32669cd6-737f-4b39-8bdd-d6951120d3fc\"\n",
    "config['capsule_id'] = 'a539f742-945c-425c-84c4-15a510938c52'\n",
    "config['named_parameters'] = {\n",
    "    \"response_condition_version\": 1,\n",
    "    \"output_sampling_rate\": 20,\n",
    "    \"parallel\": True,\n",
    "    \"test\": True,\n",
    "}\n",
    "config['assets_list'] = [\n",
    "    [\n",
    "        {\n",
    "            \"id\": \"b7ae31ca-71a6-42ea-a467-8e839212fabd\",\n",
    "            \"mount\": \"multiplane-ophys_736963_2024-07-12_09-20-11\"\n",
    "        },\n",
    "        {\n",
    "            \"id\": \"80ffe6c1-d7aa-4131-aa9e-fc919ae13d11\",\n",
    "            \"mount\": \"multiplane-ophys_736963_2024-07-12_09-20-11_processed_2024-11-20_21-01-01\"\n",
    "        },\n",
    "        {\n",
    "            \"id\": \"5f8725c5-fe38-4547-be8f-5e132dd71082\",\n",
    "            \"mount\": \"multiplane-ophys_736963_2024-07-12_09-20-11_dlc-eye_2025-01-18_01-17-27\"\n",
    "        },\n",
    "        \n",
    "    ]\n",
    "]\n",
    "\n",
    "config['capture_settings'] = [\n",
    "    {\n",
    "        \"result_name\": \"conditioned-mean-responses_736963_2024-07-12\",\n",
    "        \"result_description\": \"test\"\n",
    "    }\n",
    "]\n",
    "config['tags'] = [\n",
    "    \"derived\",\n",
    "    \"736963\",\n",
    "    \"CTL\",\n",
    "    \"conditioned mean responses\"\n",
    "]\n",
    "# config['process_name_suffix'] = \"conditioned-mean-responses\"\n",
    "\n",
    "config['custom_metadata'] = {\n",
    "    \"data level\": \"derived\",\n",
    "    \"subject id\": \"736963\",\n",
    "}\n"
   ]
  },
  {
   "cell_type": "code",
   "execution_count": 12,
   "metadata": {},
   "outputs": [],
   "source": [
    "\n",
    "co_job_dir = Path(r'D:\\codeocean\\job_jsons')\n",
    "co_job_dir.mkdir(parents=True, exist_ok=True)\n",
    "json_fn = co_job_dir / 'test.json'\n",
    "with json_fn.open('w') as f:\n",
    "    json.dump(config, f, indent=4)"
   ]
  },
  {
   "cell_type": "code",
   "execution_count": null,
   "metadata": {},
   "outputs": [],
   "source": []
  },
  {
   "cell_type": "code",
   "execution_count": null,
   "metadata": {},
   "outputs": [],
   "source": []
  }
 ],
 "metadata": {
  "kernelspec": {
   "display_name": "codeocean",
   "language": "python",
   "name": "python3"
  },
  "language_info": {
   "codemirror_mode": {
    "name": "ipython",
    "version": 3
   },
   "file_extension": ".py",
   "mimetype": "text/x-python",
   "name": "python",
   "nbconvert_exporter": "python",
   "pygments_lexer": "ipython3",
   "version": "3.11.11"
  }
 },
 "nbformat": 4,
 "nbformat_minor": 2
}
