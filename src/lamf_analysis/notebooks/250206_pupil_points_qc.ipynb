{
 "cells": [
  {
   "cell_type": "code",
   "execution_count": null,
   "metadata": {},
   "outputs": [],
   "source": [
    "import cv2\n",
    "import pandas as pd\n",
    "import numpy as np\n",
    "from matplotlib import pyplot as plt\n",
    "from comb.behavior_ophys_dataset import BehaviorOphysDataset\n",
    "\n",
    "def read_DLC_h5file(h5file):\n",
    "    \"\"\"\n",
    "    Read in a h5 file from DLC and return a dataframe with the DLC data wiht clean column names\n",
    "\n",
    "    Parameters\n",
    "    ----------\n",
    "    h5file : str\n",
    "        full path to the h5 file\"\"\"\n",
    "    df = pd.read_hdf(h5file, key='df_with_missing')\n",
    "    junk = df.keys()[0][0]  # this is a hack to get the right column names\n",
    "    df = df[junk]\n",
    "    df_dlc = pd.DataFrame(df.unstack())  # long format shape\n",
    "    df_dlc = df_dlc.reset_index()\n",
    "    df_dlc = df_dlc.rename(columns={0: 'value', 'level_2': 'frame_number'})  # rename columns to clear names\n",
    "    print('loaded DLC data')\n",
    "    return df_dlc"
   ]
  },
  {
   "cell_type": "code",
   "execution_count": null,
   "metadata": {},
   "outputs": [],
   "source": [
    "plane_path = '/root/capsule/data/multiplane-ophys_736963_2024-07-09_09-13-58_processed_2024-11-20_19-03-42/VISp_0'\n",
    "raw_path = '/root/capsule/data/multiplane-ophys_736963_2024-07-09_09-13-58'\n",
    "eye_path = '/root/capsule/data/multiplane-ophys_736963_2024-07-09_09-13-58_dlc-eye_2025-01-18_00-27-35'\n",
    "bod = BehaviorOphysDataset(plane_folder_path=plane_path,\n",
    "                               raw_folder_path=raw_path,\n",
    "                               eye_tracking_path=eye_path,\n",
    "                               pipeline_version='v6')"
   ]
  },
  {
   "cell_type": "code",
   "execution_count": null,
   "metadata": {},
   "outputs": [],
   "source": [
    "eye_df = bod.eye_tracking_table.copy(deep=True)\n",
    "pupil_area_df = eye_df.query('eye_is_bad_frame==False and pupil_is_bad_frame==False')[['timestamps', 'pupil_area']].copy()\n",
    "fig, ax = plt.subplots()\n",
    "ax.plot(pupil_area_df['timestamps'], pupil_area_df['pupil_area'])"
   ]
  },
  {
   "cell_type": "code",
   "execution_count": null,
   "metadata": {},
   "outputs": [],
   "source": [
    "eye_tracking_movie = '/root/capsule/data/multiplane-ophys_736963_2024-07-09_09-13-58/behavior-videos/1378956881_Eye_20240709T091346.mp4'\n",
    "cap_eye = cv2.VideoCapture(eye_tracking_movie)\n",
    "width = int(cap_eye.get(cv2.CAP_PROP_FRAME_WIDTH))\n",
    "height = int(cap_eye.get(cv2.CAP_PROP_FRAME_HEIGHT))\n",
    "length = int(cap_eye.get(cv2.CAP_PROP_FRAME_COUNT))\n",
    "\n",
    "dlc_h5 = '/root/capsule/data/multiplane-ophys_736963_2024-07-09_09-13-58_dlc-eye_2025-01-18_00-27-35/1378956881_Eye_20240709T091346DLC_resnet50_universal_eye_trackingJul10shuffle1_1030000.h5'\n",
    "dlc_df = read_DLC_h5file(dlc_h5)\n",
    "pupil_points_df = dlc_df[(dlc_df.bodyparts.str.contains('pupil'))]\n"
   ]
  },
  {
   "cell_type": "code",
   "execution_count": null,
   "metadata": {},
   "outputs": [],
   "source": [
    "frame_nums_to_capture = np.arange(19807, 19820)\n",
    "frames = []\n",
    "pupil_points = []\n",
    "for frame_number in frame_nums_to_capture:\n",
    "    cap_eye.set(cv2.CAP_PROP_POS_FRAMES, frame_number-1)\n",
    "    ret, frame = cap_eye.read()\n",
    "    frames.append(frame)\n",
    "\n",
    "    x_values = pupil_points_df.query(f'frame_number=={frame_number} and coords==\"x\"').value.values\n",
    "    y_values = pupil_points_df.query(f'frame_number=={frame_number} and coords==\"y\"').value.values    \n",
    "    pupil_points.append([x_values, y_values])\n",
    "    "
   ]
  },
  {
   "cell_type": "code",
   "execution_count": null,
   "metadata": {},
   "outputs": [],
   "source": [
    "for i, frame in enumerate(frames):\n",
    "    fig, ax = plt.subplots()\n",
    "    ax.imshow(frame)\n",
    "    ax.scatter(pupil_points[i][0], pupil_points[i][1], color='r')\n",
    "    ax.set_title(f'Frame {frame_nums_to_capture[i]}')\n",
    "    plt.show()\n"
   ]
  }
 ],
 "metadata": {
  "language_info": {
   "name": "python"
  }
 },
 "nbformat": 4,
 "nbformat_minor": 2
}
